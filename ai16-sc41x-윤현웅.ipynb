{
  "cells": [
    {
      "cell_type": "markdown",
      "metadata": {
        "id": "view-in-github",
        "colab_type": "text"
      },
      "source": [
        "<a href=\"https://colab.research.google.com/github/ericyun95/STUDIES/blob/master/ai16-sc41x-%EC%9C%A4%ED%98%84%EC%9B%85.ipynb\" target=\"_parent\"><img src=\"https://colab.research.google.com/assets/colab-badge.svg\" alt=\"Open In Colab\"/></a>"
      ]
    },
    {
      "cell_type": "markdown",
      "metadata": {
        "id": "dVNDxiWkw5y7"
      },
      "source": [
        "<img src='https://user-images.githubusercontent.com/6457691/90080969-0f758d00-dd47-11ea-8191-fa12fd2054a7.png' width = '200' align = 'right'>\n",
        "\n",
        "## AI SC41x\n",
        "\n",
        "---\n",
        "# Sprint Challenge - 신경망(Neural Network) 기본기 다지기\n",
        "\n",
        "Table of Problems\n",
        "\n",
        "1. 신경망 정의하기 \n",
        "2. 퍼셉트론 정의\n",
        "    - 퍼셉트론(Perceptron)\n",
        "    - 다층 퍼셉트론(Multilayer Perceptron)\n",
        "    - 분석과 비교\n",
        "4. Keras 사용하기"
      ]
    },
    {
      "cell_type": "markdown",
      "metadata": {
        "id": "O9qf0cRbw5y8"
      },
      "source": [
        "<a id=\"Q1\"></a>\n",
        "## 1. 신경망 용어 정의\n",
        "### 1.1 아래에 주어진 신경망 개념에 사용 되는 용어들을 자신만의 언어로 정의해보세요\n",
        "꼭 \"자신의 언어\"로 써보시고, 정리해보고, 요약해보세요 :)"
      ]
    },
    {
      "cell_type": "markdown",
      "metadata": {
        "id": "JPmV58XRFv-5"
      },
      "source": [
        "- **Neuron:** 신경망 내 노드 1개\n",
        "- **Input Layer:** 입력층, 입력 데이터의 특성 갯수로 결정.\n",
        "- **Hidden Layer:** 은닉층, 층이 많을수록 복잡한 모델.\n",
        "- **Output Layer:** 출력층. 결과 표현\n",
        "- **Activation Function:** 활성 함수. 노드에 들어온 입력값을 다음 노드에 어떻게 보낼지 결정.\n",
        "- **Back Propagation:** 역전파. 신경망 출력 결과를 가지고 가중치 수정."
      ]
    },
    {
      "cell_type": "markdown",
      "metadata": {
        "id": "YdcS-Jx2w5y8"
      },
      "source": [
        "### 1.2 역전파 설명해보기\n",
        "이번에는 역전파 (Back Propagation)를 조금 더 디테일하게 설명해보겠습니다. \n",
        "<br> <b>초등학생</b>에게 설명한다는 생각으로 단어들을 선정해 주세요. <i>외부 자료나 이미지를 설명에 활용하셔도 좋습니다</i>."
      ]
    },
    {
      "cell_type": "markdown",
      "source": [
        "# 여기에 답변하시고, Cell을 Markdown으로 변경해서 입력하세요.\n",
        "복잡한 계산을 해서 신경망이 계산한 값이 나오면, 원래 답과 비교 이후 답과의 차이를 가지고 역추적. 안의 노드가 계산했던 방식들을 수정하고, 그전의 노드를 또 수정하고 하는 식으로.\n",
        "파도가 한번 쳤으면 물러나면서 다시 바닷가를 적시는 이미지를 상상."
      ],
      "metadata": {
        "id": "iBZA8EQuw5y8"
      }
    },
    {
      "cell_type": "markdown",
      "metadata": {
        "id": "W7ZSjf9Uw5y8"
      },
      "source": [
        "### 1.3 퍼셉트론 정의해보기\n",
        "신경망 수업 첫날에 들었었던 퍼셉트론의 간단한 개념으로 예측하는 과정을 설명해보세요. <br> <b>입력</b>에서 <b>출력</b>으로 어떻게 변경되는 지 단계별로 설명해보세요."
      ]
    },
    {
      "cell_type": "markdown",
      "source": [
        "# 여기에 답변하시고, Cell을 Markdown으로 변경해서 입력하세요.\n",
        "percieve + neuron 의 합성어. 신경망의 기본단위라고 하는데, 값들이 들어오면 각 해당 가중치를 곱하고 편향 더해서 보내는 단위.\n",
        "이게 단순할 때는 XOR 라는 결과를 표현 못해 난항이 있었지만 컴퓨팅 자원들의 조건이 가능해지면서 다중퍼셉트론의 형성이 가능해짐. 신경망 형성"
      ],
      "metadata": {
        "id": "yaJoCMf1w5y8"
      }
    },
    {
      "cell_type": "markdown",
      "metadata": {
        "id": "1A2h2zpCw5y8"
      },
      "source": [
        "<a id=\"Q2\"></a>\n",
        "## 2. 단순 퍼셉트론\n",
        "\n",
        "이번에는 TensorFlow, keras를 사용하여 두 개의 신경망을 직접 구축한 뒤,\n",
        "<br> 아래 임의로 제공 된 $X, y$를 이용하여 두 모델에 적용한 뒤 결과를 비교해보세요. \n",
        "먼저 사용할 데이터는 다음과 같습니다."
      ]
    },
    {
      "cell_type": "code",
      "execution_count": 1,
      "metadata": {
        "colab": {
          "base_uri": "https://localhost:8080/",
          "height": 283
        },
        "id": "TWdXFK9Yw5y8",
        "outputId": "36dfb852-b8bb-4552-b090-3d2c579a58f6"
      },
      "outputs": [
        {
          "output_type": "execute_result",
          "data": {
            "text/plain": [
              "<matplotlib.collections.PathCollection at 0x7f6ba937b670>"
            ]
          },
          "metadata": {},
          "execution_count": 1
        },
        {
          "output_type": "display_data",
          "data": {
            "text/plain": [
              "<Figure size 432x288 with 1 Axes>"
            ],
            "image/png": "[encoded data removed]"
          },
          "metadata": {
            "needs_background": "light"
          }
        }
      ],
      "source": [
        "import numpy as np\n",
        "import matplotlib.pyplot as plt\n",
        "\n",
        "xx, yy = np.meshgrid(np.linspace(-3, 3, 50),\n",
        "                     np.linspace(-3, 3, 50))\n",
        "rng = np.random.RandomState(0)\n",
        "\n",
        "\n",
        "\"model1과 model2를 구축할 때 아래의 X & y를 사용하세요\"\n",
        "X = rng.randn(300, 2)\n",
        "y = np.array(np.logical_xor(X[:, 0] > 0, X[:, 1] > 0), \n",
        "             dtype=int)\n",
        "\n",
        "plt.scatter(X[:,0], X[:,1], s=y)\n"
      ]
    },
    {
      "cell_type": "code",
      "source": [
        "y.shape"
      ],
      "metadata": {
        "colab": {
          "base_uri": "https://localhost:8080/"
        },
        "id": "LexvUxVx9wPB",
        "outputId": "b28a59b3-c9da-421e-fbd9-6c0fb7d886b2"
      },
      "execution_count": 3,
      "outputs": [
        {
          "output_type": "execute_result",
          "data": {
            "text/plain": [
              "(300,)"
            ]
          },
          "metadata": {},
          "execution_count": 3
        }
      ]
    },
    {
      "cell_type": "code",
      "source": [
        "np.unique(X)"
      ],
      "metadata": {
        "id": "VVLKZFu_AYrO"
      },
      "execution_count": null,
      "outputs": []
    },
    {
      "cell_type": "code",
      "source": [
        "from tensorflow import keras\n",
        "import tensorflow as tf\n",
        "from tensorflow.keras.models import Sequential\n",
        "from tensorflow.keras.layers import Dense, Flatten, Dropout\n",
        "from tensorflow.keras.optimizers import Adam\n",
        "from tensorflow.keras import regularizers"
      ],
      "metadata": {
        "id": "ynjGOP5t-ASa"
      },
      "execution_count": 4,
      "outputs": []
    },
    {
      "cell_type": "code",
      "source": [
        "from sklearn.model_selection import train_test_split"
      ],
      "metadata": {
        "id": "dEuZ2cdVC-J1"
      },
      "execution_count": 10,
      "outputs": []
    },
    {
      "cell_type": "code",
      "source": [
        "X_train, X_test, y_train, y_test = train_test_split(X, y, test_size = 0.2)"
      ],
      "metadata": {
        "id": "ZbUQOk9oC2JK"
      },
      "execution_count": 11,
      "outputs": []
    },
    {
      "cell_type": "markdown",
      "metadata": {
        "id": "xjr4UoQXw5y8"
      },
      "source": [
        "### 단순 퍼셉트론 구현\n",
        "Keras로 <b>sigmoid activation function</b>을 포함한 dense layer 1개가 있는</b> `model1`을 만들어 학습시키고 `h1`에 저장하세요."
      ]
    },
    {
      "cell_type": "code",
      "execution_count": 12,
      "metadata": {
        "colab": {
          "base_uri": "https://localhost:8080/"
        },
        "id": "vKZXIC1ew5y8",
        "outputId": "e4731b79-89aa-4723-dd24-746e610b2330"
      },
      "outputs": [
        {
          "output_type": "stream",
          "name": "stdout",
          "text": [
            "Epoch 1/30\n",
            "8/8 [==============================] - 1s 4ms/step - loss: 0.7300 - accuracy: 0.6958\n",
            "Epoch 2/30\n",
            "8/8 [==============================] - 0s 2ms/step - loss: 0.7266 - accuracy: 0.6958\n",
            "Epoch 3/30\n",
            "8/8 [==============================] - 0s 2ms/step - loss: 0.7233 - accuracy: 0.6958\n",
            "Epoch 4/30\n",
            "8/8 [==============================] - 0s 3ms/step - loss: 0.7201 - accuracy: 0.7000\n",
            "Epoch 5/30\n",
            "8/8 [==============================] - 0s 3ms/step - loss: 0.7171 - accuracy: 0.7000\n",
            "Epoch 6/30\n",
            "8/8 [==============================] - 0s 3ms/step - loss: 0.7141 - accuracy: 0.7000\n",
            "Epoch 7/30\n",
            "8/8 [==============================] - 0s 4ms/step - loss: 0.7114 - accuracy: 0.7000\n",
            "Epoch 8/30\n",
            "8/8 [==============================] - 0s 3ms/step - loss: 0.7087 - accuracy: 0.7000\n",
            "Epoch 9/30\n",
            "8/8 [==============================] - 0s 2ms/step - loss: 0.7058 - accuracy: 0.7000\n",
            "Epoch 10/30\n",
            "8/8 [==============================] - 0s 3ms/step - loss: 0.7034 - accuracy: 0.6958\n",
            "Epoch 11/30\n",
            "8/8 [==============================] - 0s 3ms/step - loss: 0.7009 - accuracy: 0.6958\n",
            "Epoch 12/30\n",
            "8/8 [==============================] - 0s 2ms/step - loss: 0.6985 - accuracy: 0.6958\n",
            "Epoch 13/30\n",
            "8/8 [==============================] - 0s 2ms/step - loss: 0.6961 - accuracy: 0.6958\n",
            "Epoch 14/30\n",
            "8/8 [==============================] - 0s 2ms/step - loss: 0.6938 - accuracy: 0.6917\n",
            "Epoch 15/30\n",
            "8/8 [==============================] - 0s 2ms/step - loss: 0.6916 - accuracy: 0.6917\n",
            "Epoch 16/30\n",
            "8/8 [==============================] - 0s 2ms/step - loss: 0.6894 - accuracy: 0.6917\n",
            "Epoch 17/30\n",
            "8/8 [==============================] - 0s 3ms/step - loss: 0.6873 - accuracy: 0.6875\n",
            "Epoch 18/30\n",
            "8/8 [==============================] - 0s 3ms/step - loss: 0.6852 - accuracy: 0.6917\n",
            "Epoch 19/30\n",
            "8/8 [==============================] - 0s 3ms/step - loss: 0.6832 - accuracy: 0.6875\n",
            "Epoch 20/30\n",
            "8/8 [==============================] - 0s 3ms/step - loss: 0.6811 - accuracy: 0.6875\n",
            "Epoch 21/30\n",
            "8/8 [==============================] - 0s 4ms/step - loss: 0.6793 - accuracy: 0.6875\n",
            "Epoch 22/30\n",
            "8/8 [==============================] - 0s 3ms/step - loss: 0.6774 - accuracy: 0.6875\n",
            "Epoch 23/30\n",
            "8/8 [==============================] - 0s 3ms/step - loss: 0.6756 - accuracy: 0.6833\n",
            "Epoch 24/30\n",
            "8/8 [==============================] - 0s 2ms/step - loss: 0.6738 - accuracy: 0.6792\n",
            "Epoch 25/30\n",
            "8/8 [==============================] - 0s 2ms/step - loss: 0.6720 - accuracy: 0.6792\n",
            "Epoch 26/30\n",
            "8/8 [==============================] - 0s 3ms/step - loss: 0.6702 - accuracy: 0.6750\n",
            "Epoch 27/30\n",
            "8/8 [==============================] - 0s 3ms/step - loss: 0.6685 - accuracy: 0.6750\n",
            "Epoch 28/30\n",
            "8/8 [==============================] - 0s 3ms/step - loss: 0.6667 - accuracy: 0.6750\n",
            "Epoch 29/30\n",
            "8/8 [==============================] - 0s 3ms/step - loss: 0.6651 - accuracy: 0.6708\n",
            "Epoch 30/30\n",
            "8/8 [==============================] - 0s 3ms/step - loss: 0.6634 - accuracy: 0.6667\n"
          ]
        }
      ],
      "source": [
        "from tensorflow.python import metrics\n",
        "model1 = Sequential()\n",
        "model1.add(Dense(10, activation = 'relu'))\n",
        "model1.add(Dense(1, activation = 'sigmoid'))\n",
        "model1.compile(\n",
        "    optimizer = 'sgd',\n",
        "    loss = 'binary_crossentropy',\n",
        "    metrics = ['accuracy']\n",
        ")\n",
        "\n",
        "\n",
        "\n",
        "\n",
        "h1 = model1.fit(X_train, y_train, epochs = 30)"
      ]
    },
    {
      "cell_type": "markdown",
      "metadata": {
        "id": "0Ugkziwew5y8"
      },
      "source": [
        "\n",
        "### Multi-Layer Perceptron (MLP)\n",
        "이번에는 여러층의 레이어들을 쌓은 MLP 모델을 만들어보겠습니다. 아래는 간략한 가이드입니다 :\n",
        "- 2개의 은닉층 (출력 수를 맞추는 것까지 3개의 Dense를 사용할 것은 추천)\n",
        "- 노드의 개수는 8-32개 내에서 변경해서 사용해보세요.\n",
        "- Activation function과 optimizer는 이번 주에 배운 것들 중에서 자유롭게 골라보세요.\n",
        "- 아래 만들어진 Callback function을 모델에 통합해서 사용하세요\n",
        "\n",
        "MLP로 만들어진 `model2` 를 만들어 학습하고 `h2`에 저장하세요."
      ]
    },
    {
      "cell_type": "code",
      "execution_count": 13,
      "metadata": {
        "id": "6BoIn7iBw5y8"
      },
      "outputs": [],
      "source": [
        "import tensorflow as tf\n",
        "\n",
        "class myCallback(tf.keras.callbacks.Callback): \n",
        "    def on_epoch_end(self, epoch, logs={}): \n",
        "        if(logs.get('accuracy') > .90):   \n",
        "            self.model.stop_training = True"
      ]
    },
    {
      "cell_type": "code",
      "execution_count": 16,
      "metadata": {
        "colab": {
          "base_uri": "https://localhost:8080/"
        },
        "id": "B63dciqEw5y8",
        "outputId": "0e62437e-a9f2-4170-85d6-cdedde0734a7"
      },
      "outputs": [
        {
          "output_type": "stream",
          "name": "stdout",
          "text": [
            "Epoch 1/50\n",
            "8/8 [==============================] - 1s 44ms/step - loss: 0.6818 - accuracy: 0.7042 - val_loss: 0.6793 - val_accuracy: 0.6667\n",
            "Epoch 2/50\n",
            "8/8 [==============================] - 0s 6ms/step - loss: 0.6667 - accuracy: 0.7083 - val_loss: 0.6646 - val_accuracy: 0.6833\n",
            "Epoch 3/50\n",
            "8/8 [==============================] - 0s 6ms/step - loss: 0.6536 - accuracy: 0.7125 - val_loss: 0.6523 - val_accuracy: 0.6833\n",
            "Epoch 4/50\n",
            "8/8 [==============================] - 0s 6ms/step - loss: 0.6424 - accuracy: 0.7208 - val_loss: 0.6419 - val_accuracy: 0.6833\n",
            "Epoch 5/50\n",
            "8/8 [==============================] - 0s 9ms/step - loss: 0.6321 - accuracy: 0.7208 - val_loss: 0.6329 - val_accuracy: 0.6833\n",
            "Epoch 6/50\n",
            "8/8 [==============================] - 0s 9ms/step - loss: 0.6232 - accuracy: 0.7250 - val_loss: 0.6239 - val_accuracy: 0.6833\n",
            "Epoch 7/50\n",
            "8/8 [==============================] - 0s 8ms/step - loss: 0.6143 - accuracy: 0.7208 - val_loss: 0.6154 - val_accuracy: 0.6833\n",
            "Epoch 8/50\n",
            "8/8 [==============================] - 0s 7ms/step - loss: 0.6057 - accuracy: 0.7250 - val_loss: 0.6067 - val_accuracy: 0.6667\n",
            "Epoch 9/50\n",
            "8/8 [==============================] - 0s 9ms/step - loss: 0.5968 - accuracy: 0.7292 - val_loss: 0.5980 - val_accuracy: 0.6500\n",
            "Epoch 10/50\n",
            "8/8 [==============================] - 0s 7ms/step - loss: 0.5876 - accuracy: 0.7292 - val_loss: 0.5886 - val_accuracy: 0.6833\n",
            "Epoch 11/50\n",
            "8/8 [==============================] - 0s 6ms/step - loss: 0.5772 - accuracy: 0.7250 - val_loss: 0.5788 - val_accuracy: 0.6667\n",
            "Epoch 12/50\n",
            "8/8 [==============================] - 0s 7ms/step - loss: 0.5673 - accuracy: 0.7333 - val_loss: 0.5688 - val_accuracy: 0.7667\n",
            "Epoch 13/50\n",
            "8/8 [==============================] - 0s 6ms/step - loss: 0.5569 - accuracy: 0.7917 - val_loss: 0.5591 - val_accuracy: 0.7833\n",
            "Epoch 14/50\n",
            "8/8 [==============================] - 0s 6ms/step - loss: 0.5464 - accuracy: 0.7958 - val_loss: 0.5496 - val_accuracy: 0.8000\n",
            "Epoch 15/50\n",
            "8/8 [==============================] - 0s 6ms/step - loss: 0.5360 - accuracy: 0.8042 - val_loss: 0.5397 - val_accuracy: 0.8333\n",
            "Epoch 16/50\n",
            "8/8 [==============================] - 0s 7ms/step - loss: 0.5250 - accuracy: 0.8083 - val_loss: 0.5299 - val_accuracy: 0.8500\n",
            "Epoch 17/50\n",
            "8/8 [==============================] - 0s 6ms/step - loss: 0.5144 - accuracy: 0.8167 - val_loss: 0.5198 - val_accuracy: 0.8667\n",
            "Epoch 18/50\n",
            "8/8 [==============================] - 0s 6ms/step - loss: 0.5034 - accuracy: 0.8167 - val_loss: 0.5092 - val_accuracy: 0.8833\n",
            "Epoch 19/50\n",
            "8/8 [==============================] - 0s 7ms/step - loss: 0.4921 - accuracy: 0.8333 - val_loss: 0.4985 - val_accuracy: 0.9000\n",
            "Epoch 20/50\n",
            "8/8 [==============================] - 0s 7ms/step - loss: 0.4807 - accuracy: 0.8542 - val_loss: 0.4875 - val_accuracy: 0.9000\n",
            "Epoch 21/50\n",
            "8/8 [==============================] - 0s 7ms/step - loss: 0.4693 - accuracy: 0.8625 - val_loss: 0.4764 - val_accuracy: 0.9000\n",
            "Epoch 22/50\n",
            "8/8 [==============================] - 0s 6ms/step - loss: 0.4577 - accuracy: 0.8708 - val_loss: 0.4654 - val_accuracy: 0.8833\n",
            "Epoch 23/50\n",
            "8/8 [==============================] - 0s 7ms/step - loss: 0.4461 - accuracy: 0.8833 - val_loss: 0.4544 - val_accuracy: 0.8833\n",
            "Epoch 24/50\n",
            "8/8 [==============================] - 0s 5ms/step - loss: 0.4350 - accuracy: 0.9000 - val_loss: 0.4434 - val_accuracy: 0.9000\n",
            "Epoch 25/50\n",
            "8/8 [==============================] - 0s 6ms/step - loss: 0.4235 - accuracy: 0.9042 - val_loss: 0.4323 - val_accuracy: 0.9167\n"
          ]
        }
      ],
      "source": [
        "cb = myCallback()\n",
        "\n",
        "model2 = Sequential()\n",
        "model2.add(Dense(32, activation = 'relu'))\n",
        "model2.add(Dense(8, activation = 'relu'))\n",
        "model2.add(Dense(1, activation = 'sigmoid'))\n",
        "model2.compile(\n",
        "    optimizer = 'adam',\n",
        "    loss = 'binary_crossentropy',\n",
        "    metrics = ['accuracy']\n",
        ")\n",
        "\n",
        "h2 = model2.fit(X_train, y_train, epochs = 50, validation_data = (X_test, y_test), callbacks = cb)"
      ]
    },
    {
      "cell_type": "markdown",
      "metadata": {
        "id": "xn2TsE76w5y8"
      },
      "source": [
        "### Analyze and Compare\n",
        "\n",
        "코드를 시작하기 전에 추가 라이브러리를 설치해야 합니다. 스프린트 과제에 사용 중인 환경에 패키지 `mlxtend`를 설치합니다. 설치코드를 직접 제작해보세요. 기존 자료들을 참고하면 쉽게 설치할 수 있을 것입니다. "
      ]
    },
    {
      "cell_type": "markdown",
      "source": [
        "#### 아래 실행 버튼을 눌러 셀을 실행시킨 뒤, 진행해주세요."
      ],
      "metadata": {
        "id": "w94sdYZ9Ja7d"
      }
    },
    {
      "cell_type": "code",
      "execution_count": 17,
      "metadata": {
        "colab": {
          "base_uri": "https://localhost:8080/"
        },
        "id": "96hsbGktVlgL",
        "outputId": "9b65de70-f140-4aca-ac0f-27132f6a10e7"
      },
      "outputs": [
        {
          "output_type": "stream",
          "name": "stdout",
          "text": [
            "Looking in indexes: https://pypi.org/simple, https://us-python.pkg.dev/colab-wheels/public/simple/\n",
            "Requirement already satisfied: mlxtend in /usr/local/lib/python3.8/dist-packages (0.14.0)\n",
            "Requirement already satisfied: scikit-learn>=0.18 in /usr/local/lib/python3.8/dist-packages (from mlxtend) (1.0.2)\n",
            "Requirement already satisfied: scipy>=0.17 in /usr/local/lib/python3.8/dist-packages (from mlxtend) (1.7.3)\n",
            "Requirement already satisfied: setuptools in /usr/local/lib/python3.8/dist-packages (from mlxtend) (57.4.0)\n",
            "Requirement already satisfied: pandas>=0.17.1 in /usr/local/lib/python3.8/dist-packages (from mlxtend) (1.3.5)\n",
            "Requirement already satisfied: numpy>=1.10.4 in /usr/local/lib/python3.8/dist-packages (from mlxtend) (1.21.6)\n",
            "Requirement already satisfied: matplotlib>=1.5.1 in /usr/local/lib/python3.8/dist-packages (from mlxtend) (3.2.2)\n",
            "Requirement already satisfied: python-dateutil>=2.1 in /usr/local/lib/python3.8/dist-packages (from matplotlib>=1.5.1->mlxtend) (2.8.2)\n",
            "Requirement already satisfied: pyparsing!=2.0.4,!=2.1.2,!=2.1.6,>=2.0.1 in /usr/local/lib/python3.8/dist-packages (from matplotlib>=1.5.1->mlxtend) (3.0.9)\n",
            "Requirement already satisfied: kiwisolver>=1.0.1 in /usr/local/lib/python3.8/dist-packages (from matplotlib>=1.5.1->mlxtend) (1.4.4)\n",
            "Requirement already satisfied: cycler>=0.10 in /usr/local/lib/python3.8/dist-packages (from matplotlib>=1.5.1->mlxtend) (0.11.0)\n",
            "Requirement already satisfied: pytz>=2017.3 in /usr/local/lib/python3.8/dist-packages (from pandas>=0.17.1->mlxtend) (2022.7)\n",
            "Requirement already satisfied: joblib>=0.11 in /usr/local/lib/python3.8/dist-packages (from scikit-learn>=0.18->mlxtend) (1.2.0)\n",
            "Requirement already satisfied: threadpoolctl>=2.0.0 in /usr/local/lib/python3.8/dist-packages (from scikit-learn>=0.18->mlxtend) (3.1.0)\n",
            "Requirement already satisfied: six>=1.5 in /usr/local/lib/python3.8/dist-packages (from python-dateutil>=2.1->matplotlib>=1.5.1->mlxtend) (1.15.0)\n"
          ]
        }
      ],
      "source": [
        "# mlxtend 라이브러리를 설치합니다\n",
        "!pip install mlxtend"
      ]
    },
    {
      "cell_type": "code",
      "source": [
        "#이 셀의 코드는 변경하지 마세요.\n",
        "from itertools import cycle\n",
        "from math import ceil, floor\n",
        "\n",
        "import matplotlib.pyplot as plt\n",
        "import numpy as np\n",
        "\n",
        "from mlxtend.utils import check_Xy, format_kwarg_dictionaries\n",
        "\n",
        "\n",
        "def get_feature_range_mask(X, filler_feature_values=None, filler_feature_ranges=None):\n",
        "    \"\"\"\n",
        "    Function that constucts a boolean array to get rid of samples\n",
        "    in X that are outside the feature range specified by filler_feature_values\n",
        "    and filler_feature_ranges\n",
        "    \"\"\"\n",
        "\n",
        "    if not isinstance(X, np.ndarray) or not len(X.shape) == 2:\n",
        "        raise ValueError(\"X must be a 2D array\")\n",
        "    elif filler_feature_values is None:\n",
        "        raise ValueError(\"filler_feature_values must not be None\")\n",
        "    elif filler_feature_ranges is None:\n",
        "        raise ValueError(\"filler_feature_ranges must not be None\")\n",
        "\n",
        "    mask = np.ones(X.shape[0], dtype=bool)\n",
        "    for feature_idx in filler_feature_ranges:\n",
        "        feature_value = filler_feature_values[feature_idx]\n",
        "        feature_width = filler_feature_ranges[feature_idx]\n",
        "        upp_limit = feature_value + feature_width\n",
        "        low_limit = feature_value - feature_width\n",
        "        feature_mask = (X[:, feature_idx] > low_limit) & (X[:, feature_idx] < upp_limit)\n",
        "        mask = mask & feature_mask\n",
        "\n",
        "    return mask\n",
        "\n",
        "\n",
        "def plot_decision_regions(\n",
        "    X,\n",
        "    y,\n",
        "    clf,\n",
        "    feature_index=None,\n",
        "    filler_feature_values=None,\n",
        "    filler_feature_ranges=None,\n",
        "    ax=None,\n",
        "    X_highlight=None,\n",
        "    zoom_factor=1.0,\n",
        "    legend=1,\n",
        "    hide_spines=True,\n",
        "    markers=\"s^oxv<>\",\n",
        "    colors=(\n",
        "        \"#1f77b4,#ff7f0e,#3ca02c,#d62728,\"\n",
        "        \"#9467bd,#8c564b,#e377c2,\"\n",
        "        \"#7f7f7f,#bcbd22,#17becf\"\n",
        "    ),\n",
        "    scatter_kwargs=None,\n",
        "    contourf_kwargs=None,\n",
        "    contour_kwargs=None,\n",
        "    scatter_highlight_kwargs=None,\n",
        "):\n",
        "    \"\"\"Plot decision regions of a classifier.\n",
        "    Please note that this functions assumes that class labels are\n",
        "    labeled consecutively, e.g,. 0, 1, 2, 3, 4, and 5. If you have class\n",
        "    labels with integer labels > 4, you may want to provide additional colors\n",
        "    and/or markers as `colors` and `markers` arguments.\n",
        "    See http://matplotlib.org/examples/color/named_colors.html for more\n",
        "    information.\n",
        "    Parameters\n",
        "    ----------\n",
        "    X : array-like, shape = [n_samples, n_features]\n",
        "        Feature Matrix.\n",
        "    y : array-like, shape = [n_samples]\n",
        "        True class labels.\n",
        "    clf : Classifier object.\n",
        "        Must have a .predict method.\n",
        "    feature_index : array-like (default: (0,) for 1D, (0, 1) otherwise)\n",
        "        Feature indices to use for plotting. The first index in\n",
        "        `feature_index` will be on the x-axis, the second index will be\n",
        "        on the y-axis.\n",
        "    filler_feature_values : dict (default: None)\n",
        "        Only needed for number features > 2. Dictionary of feature\n",
        "        index-value pairs for the features not being plotted.\n",
        "    filler_feature_ranges : dict (default: None)\n",
        "        Only needed for number features > 2. Dictionary of feature\n",
        "        index-value pairs for the features not being plotted. Will use the\n",
        "        ranges provided to select training samples for plotting.\n",
        "    ax : matplotlib.axes.Axes (default: None)\n",
        "        An existing matplotlib Axes. Creates\n",
        "        one if ax=None.\n",
        "    X_highlight : array-like, shape = [n_samples, n_features] (default: None)\n",
        "        An array with data points that are used to highlight samples in `X`.\n",
        "    zoom_factor : float (default: 1.0)\n",
        "        Controls the scale of the x- and y-axis of the decision plot.\n",
        "    hide_spines : bool (default: True)\n",
        "        Hide axis spines if True.\n",
        "    legend : int (default: 1)\n",
        "        Integer to specify the legend location.\n",
        "        No legend if legend is 0.\n",
        "    markers : str (default: 's^oxv<>')\n",
        "        Scatterplot markers.\n",
        "    colors : str (default: 'red,blue,limegreen,gray,cyan')\n",
        "        Comma separated list of colors.\n",
        "    scatter_kwargs : dict (default: None)\n",
        "        Keyword arguments for underlying matplotlib scatter function.\n",
        "    contourf_kwargs : dict (default: None)\n",
        "        Keyword arguments for underlying matplotlib contourf function.\n",
        "    contour_kwargs : dict (default: None)\n",
        "        Keyword arguments for underlying matplotlib contour function\n",
        "        (which draws the lines between decision regions).\n",
        "    scatter_highlight_kwargs : dict (default: None)\n",
        "        Keyword arguments for underlying matplotlib scatter function.\n",
        "    Returns\n",
        "    ---------\n",
        "    ax : matplotlib.axes.Axes object\n",
        "    Examples\n",
        "    -----------\n",
        "    For usage examples, please see\n",
        "    http://rasbt.github.io/mlxtend/user_guide/plotting/plot_decision_regions/\n",
        "    \"\"\"\n",
        "\n",
        "    check_Xy(X, y, y_int=True)  # Validate X and y arrays\n",
        "    dim = X.shape[1]\n",
        "\n",
        "    if ax is None:\n",
        "        ax = plt.gca()\n",
        "\n",
        "    plot_testdata = True\n",
        "    if not isinstance(X_highlight, np.ndarray):\n",
        "        if X_highlight is not None:\n",
        "            raise ValueError(\"X_highlight must be a NumPy array or None\")\n",
        "        else:\n",
        "            plot_testdata = False\n",
        "    elif len(X_highlight.shape) < 2:\n",
        "        raise ValueError(\"X_highlight must be a 2D array\")\n",
        "\n",
        "    if feature_index is not None:\n",
        "        # Unpack and validate the feature_index values\n",
        "        if dim == 1:\n",
        "            raise ValueError(\"feature_index requires more than one training feature\")\n",
        "        try:\n",
        "            x_index, y_index = feature_index\n",
        "        except ValueError:\n",
        "            raise ValueError(\n",
        "                \"Unable to unpack feature_index. Make sure feature_index \"\n",
        "                \"only has two dimensions.\"\n",
        "            )\n",
        "        try:\n",
        "            X[:, x_index], X[:, y_index]\n",
        "        except IndexError:\n",
        "            raise IndexError(\n",
        "                \"feature_index values out of range. X.shape is {}, but \"\n",
        "                \"feature_index is {}\".format(X.shape, feature_index)\n",
        "            )\n",
        "    else:\n",
        "        feature_index = (0, 1)\n",
        "        x_index, y_index = feature_index\n",
        "\n",
        "    # Extra input validation for higher number of training features\n",
        "    if dim > 2:\n",
        "        if filler_feature_values is None:\n",
        "            raise ValueError(\n",
        "                \"Filler values must be provided when \"\n",
        "                \"X has more than 2 training features.\"\n",
        "            )\n",
        "\n",
        "        if filler_feature_ranges is not None:\n",
        "            if not set(filler_feature_values) == set(filler_feature_ranges):\n",
        "                raise ValueError(\n",
        "                    \"filler_feature_values and filler_feature_ranges must \"\n",
        "                    \"have the same keys\"\n",
        "                )\n",
        "\n",
        "        # Check that all columns in X are accounted for\n",
        "        column_check = np.zeros(dim, dtype=bool)\n",
        "        for idx in filler_feature_values:\n",
        "            column_check[idx] = True\n",
        "        for idx in feature_index:\n",
        "            column_check[idx] = True\n",
        "        if not all(column_check):\n",
        "            missing_cols = np.argwhere(~column_check).flatten()\n",
        "            raise ValueError(\n",
        "                \"Column(s) {} need to be accounted for in either \"\n",
        "                \"feature_index or filler_feature_values\".format(missing_cols)\n",
        "            )\n",
        "\n",
        "    marker_gen = cycle(list(markers))\n",
        "\n",
        "    n_classes = np.unique(y).shape[0]\n",
        "    colors = colors.split(\",\")\n",
        "    colors_gen = cycle(colors)\n",
        "    colors = [next(colors_gen) for c in range(n_classes)]\n",
        "\n",
        "    # Get minimum and maximum\n",
        "    x_min, x_max = (\n",
        "        X[:, x_index].min() - 1.0 / zoom_factor,\n",
        "        X[:, x_index].max() + 1.0 / zoom_factor,\n",
        "    )\n",
        "    if dim == 1:\n",
        "        y_min, y_max = -1, 1\n",
        "    else:\n",
        "        y_min, y_max = (\n",
        "            X[:, y_index].min() - 1.0 / zoom_factor,\n",
        "            X[:, y_index].max() + 1.0 / zoom_factor,\n",
        "        )\n",
        "\n",
        "    xnum, ynum = plt.gcf().dpi * plt.gcf().get_size_inches()\n",
        "    xnum, ynum = floor(xnum), ceil(ynum)\n",
        "    xx, yy = np.meshgrid(\n",
        "        np.linspace(x_min, x_max, num=xnum), np.linspace(y_min, y_max, num=ynum)\n",
        "    )\n",
        "\n",
        "    if dim == 1:\n",
        "        X_predict = np.array([xx.ravel()]).T\n",
        "    else:\n",
        "        X_grid = np.array([xx.ravel(), yy.ravel()]).T\n",
        "        X_predict = np.zeros((X_grid.shape[0], dim))\n",
        "        X_predict[:, x_index] = X_grid[:, 0]\n",
        "        X_predict[:, y_index] = X_grid[:, 1]\n",
        "        if dim > 2:\n",
        "            for feature_idx in filler_feature_values:\n",
        "                X_predict[:, feature_idx] = filler_feature_values[feature_idx]\n",
        "    Z = clf.predict(X_predict.astype(X.dtype))\n",
        "    if Z.shape[1] == 2:\n",
        "        Z = Z[:,1]\n",
        "    Z = Z.reshape(xx.shape)\n",
        "    # Plot decisoin region\n",
        "    # Make sure contourf_kwargs has backwards compatible defaults\n",
        "    contourf_kwargs_default = {\"alpha\": 0.45, \"antialiased\": True}\n",
        "    contourf_kwargs = format_kwarg_dictionaries(\n",
        "        default_kwargs=contourf_kwargs_default,\n",
        "        user_kwargs=contourf_kwargs,\n",
        "        protected_keys=[\"colors\", \"levels\"],\n",
        "    )\n",
        "    cset = ax.contourf(\n",
        "        xx, yy, Z, colors=colors, levels=np.arange(Z.max() + 2) - 0.5, **contourf_kwargs\n",
        "    )\n",
        "\n",
        "    contour_kwargs_default = {\"linewidths\": 0.5, \"colors\": \"k\", \"antialiased\": True}\n",
        "    contour_kwargs = format_kwarg_dictionaries(\n",
        "        default_kwargs=contour_kwargs_default,\n",
        "        user_kwargs=contour_kwargs,\n",
        "        protected_keys=[],\n",
        "    )\n",
        "    ax.contour(xx, yy, Z, cset.levels, **contour_kwargs)\n",
        "\n",
        "    ax.axis([xx.min(), xx.max(), yy.min(), yy.max()])\n",
        "\n",
        "    # Scatter training data samples\n",
        "    # Make sure scatter_kwargs has backwards compatible defaults\n",
        "    scatter_kwargs_default = {\"alpha\": 0.8, \"edgecolor\": \"black\"}\n",
        "    scatter_kwargs = format_kwarg_dictionaries(\n",
        "        default_kwargs=scatter_kwargs_default,\n",
        "        user_kwargs=scatter_kwargs,\n",
        "        protected_keys=[\"c\", \"marker\", \"label\"],\n",
        "    )\n",
        "    for idx, c in enumerate(np.unique(y)):\n",
        "        if dim == 1:\n",
        "            y_data = [0 for i in X[y == c]]\n",
        "            x_data = X[y == c]\n",
        "        elif dim == 2:\n",
        "            y_data = X[y == c, y_index]\n",
        "            x_data = X[y == c, x_index]\n",
        "        elif dim > 2 and filler_feature_ranges is not None:\n",
        "            class_mask = y == c\n",
        "            feature_range_mask = get_feature_range_mask(\n",
        "                X,\n",
        "                filler_feature_values=filler_feature_values,\n",
        "                filler_feature_ranges=filler_feature_ranges,\n",
        "            )\n",
        "            y_data = X[class_mask & feature_range_mask, y_index]\n",
        "            x_data = X[class_mask & feature_range_mask, x_index]\n",
        "        else:\n",
        "            continue\n",
        "\n",
        "        ax.scatter(\n",
        "            x=x_data,\n",
        "            y=y_data,\n",
        "            c=colors[idx],\n",
        "            marker=next(marker_gen),\n",
        "            label=c,\n",
        "            **scatter_kwargs\n",
        "        )\n",
        "\n",
        "    if hide_spines:\n",
        "        ax.spines[\"right\"].set_visible(False)\n",
        "        ax.spines[\"top\"].set_visible(False)\n",
        "        ax.spines[\"left\"].set_visible(False)\n",
        "        ax.spines[\"bottom\"].set_visible(False)\n",
        "    ax.yaxis.set_ticks_position(\"left\")\n",
        "    ax.xaxis.set_ticks_position(\"bottom\")\n",
        "    if dim == 1:\n",
        "        ax.axes.get_yaxis().set_ticks([])\n",
        "\n",
        "    if plot_testdata:\n",
        "        if dim == 1:\n",
        "            x_data = X_highlight\n",
        "            y_data = [0 for i in X_highlight]\n",
        "        elif dim == 2:\n",
        "            x_data = X_highlight[:, x_index]\n",
        "            y_data = X_highlight[:, y_index]\n",
        "        else:\n",
        "            feature_range_mask = get_feature_range_mask(\n",
        "                X_highlight,\n",
        "                filler_feature_values=filler_feature_values,\n",
        "                filler_feature_ranges=filler_feature_ranges,\n",
        "            )\n",
        "            y_data = X_highlight[feature_range_mask, y_index]\n",
        "            x_data = X_highlight[feature_range_mask, x_index]\n",
        "\n",
        "        # Make sure scatter_highlight_kwargs backwards compatible defaults\n",
        "        scatter_highlight_defaults = {\n",
        "            \"c\": \"none\",\n",
        "            \"edgecolor\": \"black\",\n",
        "            \"alpha\": 1.0,\n",
        "            \"linewidths\": 1,\n",
        "            \"marker\": \"o\",\n",
        "            \"s\": 80,\n",
        "        }\n",
        "        scatter_highlight_kwargs = format_kwarg_dictionaries(\n",
        "            default_kwargs=scatter_highlight_defaults,\n",
        "            user_kwargs=scatter_highlight_kwargs,\n",
        "        )\n",
        "        ax.scatter(x_data, y_data, **scatter_highlight_kwargs)\n",
        "\n",
        "    if legend:\n",
        "        if dim > 2 and filler_feature_ranges is None:\n",
        "            pass\n",
        "        else:\n",
        "            handles, labels = ax.get_legend_handles_labels()\n",
        "            ax.legend(handles, labels, framealpha=0.3, scatterpoints=1, loc=legend)\n",
        "\n",
        "    return ax"
      ],
      "metadata": {
        "id": "AAlkHWLKF2UW"
      },
      "execution_count": 18,
      "outputs": []
    },
    {
      "cell_type": "markdown",
      "source": [
        "#### 아래 셀은 모형의 의사결정 경계도(\"model1\" 및 \"model2\")를 생성합니다. 그림을 검토합니다."
      ],
      "metadata": {
        "id": "Z4k_SfKiJHTp"
      }
    },
    {
      "cell_type": "code",
      "execution_count": 19,
      "metadata": {
        "colab": {
          "base_uri": "https://localhost:8080/",
          "height": 426
        },
        "id": "ox13rgjTw5y8",
        "outputId": "ba3d0371-277e-4bec-93ee-0a3471a8874d"
      },
      "outputs": [
        {
          "output_type": "stream",
          "name": "stdout",
          "text": [
            "11664/11664 [==============================] - 17s 1ms/step\n",
            "11664/11664 [==============================] - 16s 1ms/step\n"
          ]
        },
        {
          "output_type": "display_data",
          "data": {
            "text/plain": [
              "<Figure size 864x432 with 2 Axes>"
            ],
            "image/png": "[encoded data removed]"
          },
          "metadata": {
            "needs_background": "light"
          }
        }
      ],
      "source": [
        "# 이 셀의 코드는 변경하지 마세요\n",
        "\n",
        "h = .02  # step size in the mesh\n",
        "\n",
        "# create a mesh to plot in\n",
        "x_min, x_max = X[:, 0].min() - .2, X[:, 0].max() + .2\n",
        "y_min, y_max = X[:, 1].min() - .2, X[:, 1].max() + .2\n",
        "xx, yy = np.meshgrid(np.arange(x_min, x_max, h),\n",
        "                     np.arange(y_min, y_max, h))\n",
        "\n",
        "fig = plt.figure(figsize=(12,6))\n",
        "\n",
        "\n",
        "for clf, hist, name, grd in zip([model1,model2], [h1, h2],['Perceptron', 'Multi-Layer Perceptron'],[1,2]):\n",
        "\n",
        "    ax = plt.subplot(1,2, grd)\n",
        "    fig = plot_decision_regions(X=X, y=y, clf=clf, legend=2)\n",
        "    title = f\"{name} with {hist.history['accuracy'][-1]:,.2f} Accuracy\"\n",
        "    plt.title(title)\n",
        "\n",
        "plt.show()"
      ]
    },
    {
      "cell_type": "markdown",
      "metadata": {
        "id": "4qBWszwMw5y8"
      },
      "source": [
        "#### 대부분의 Perceptron(\"model1\")의 정확도가 50-70% 정도로 나오실 것인데요, 왜 그것밖에 되지 않을까요? <br> 데이터 X와 레이블 y의 관계를 보다 정확하게 학습할 수 있는 다층 퍼셉트론의 구조적인 특징은 무엇일까요? (설명을 하실 때 우리가 배웠었던 특징 추출의 관점에서 설명을 해보시길 바랍니다.)"
      ]
    },
    {
      "cell_type": "code",
      "execution_count": null,
      "metadata": {
        "id": "d9-bIuHnw5y8"
      },
      "outputs": [],
      "source": [
        "# 여기에 답변하시고, Cell을 Markdown으로 변경해서 입력하세요."
      ]
    },
    {
      "cell_type": "markdown",
      "metadata": {
        "id": "FYEPmr-_w5y8"
      },
      "source": [
        "## 3. Keras MLP 튜닝\n",
        "\n",
        "이번에는 Keras 라이브러리를 사용하여 선택한 MultiLayer Perceptron(MLP) 아키텍처를 구현해보겠습니다. 극히 단순한 모델부터 복잡한 모델까지 만들어 보실 수 있습니다. 모델을 학습하고 정확도를 구해보세요. \n",
        "<br> 그런 다음 최소 <b>두 개</b>의 파라미터를 튜닝한 후에 다시 모형의 정확도를 구해보고 이전 모델과 비교해보세요. \n",
        "<br> 아래 Cell에서 심장병 데이터 세트를 불러 온 후 이진 분류 모델 (binary classification model) 을 만들어 보세요. 이진 분류 작업에 적절한 손실 함수를 사용하고, 신경망의 마지막 계층에서 적절한 출력값과 활성화 함수를 사용합니다. \n",
        "<br> 세부적인 출력을 사용하여 빠르게 수렴할 수 있도록 모델을 학습해보는 것도 중요합니다. GridSearchCV 또는 RandomSearchCV를 사용하여 모델을 하이퍼 파라미터들을 튜닝해봅니다. (최소 두 개의 하이퍼 파라미터를 튜닝해봅니다) 하이퍼 파라미터 튜닝 시 새로운 각 실험에 대해 코드 셀을 추가하여 작업하는 방법을 배워보았는데, 그대로 이용하지 말고 변형을 해서 보여주고 싶은 내용을 정리해서 보여주세요.  \n",
        "<br> 테스트할 때 하이퍼 파라미터의 각 조합에 대한 정확도를 보고하여 가장 높은 정확도를 얻을 수 있는 결과를 쉽게 확인할 수 있도록 합니다. \n",
        "<br> 이 SC에서 **3점**을 얻으려면 **최소 3개의 파라미터**를 조정해야 합니다.\n",
        "\n",
        "- BatchNormalization을 레이어에 추가하면 성능이 많이 오를 수 있습니다. \n",
        "- 하지만 BatchNormalization을 사용하기 위해서는 Batch_size 옵션을 추가해야 합니다."
      ]
    },
    {
      "cell_type": "code",
      "execution_count": 20,
      "metadata": {
        "colab": {
          "base_uri": "https://localhost:8080/",
          "height": 224
        },
        "id": "F35sgQ7Cw5y8",
        "inputHidden": false,
        "jupyter": {
          "outputs_hidden": false
        },
        "outputHidden": false,
        "outputId": "132d9c3a-97d5-4bbd-bf9e-30a7062fbea3"
      },
      "outputs": [
        {
          "output_type": "stream",
          "name": "stdout",
          "text": [
            "(303, 14)\n"
          ]
        },
        {
          "output_type": "execute_result",
          "data": {
            "text/plain": [
              "     age  sex  cp  trestbps  chol  fbs  ...  exang  oldpeak  slope  ca  thal  target\n",
              "233   64    1   0       120   246    0  ...      1      2.2      0   1     2       0\n",
              "109   50    0   0       110   254    0  ...      0      0.0      2   0     2       1\n",
              "287   57    1   1       154   232    0  ...      0      0.0      2   1     2       0\n",
              "292   58    0   0       170   225    1  ...      1      2.8      1   2     1       0\n",
              "153   66    0   2       146   278    0  ...      0      0.0      1   1     2       1\n",
              "\n",
              "[5 rows x 14 columns]"
            ],
            "text/html": [
              "\n",
              "  <div id=\"df-59938b9e-704d-44b2-80f5-512b8a0b0495\">\n",
              "    <div class=\"colab-df-container\">\n",
              "      <div>\n",
              "<style scoped>\n",
              "    .dataframe tbody tr th:only-of-type {\n",
              "        vertical-align: middle;\n",
              "    }\n",
              "\n",
              "    .dataframe tbody tr th {\n",
              "        vertical-align: top;\n",
              "    }\n",
              "\n",
              "    .dataframe thead th {\n",
              "        text-align: right;\n",
              "    }\n",
              "</style>\n",
              "<table border=\"1\" class=\"dataframe\">\n",
              "  <thead>\n",
              "    <tr style=\"text-align: right;\">\n",
              "      <th></th>\n",
              "      <th>age</th>\n",
              "      <th>sex</th>\n",
              "      <th>cp</th>\n",
              "      <th>trestbps</th>\n",
              "      <th>chol</th>\n",
              "      <th>fbs</th>\n",
              "      <th>restecg</th>\n",
              "      <th>thalach</th>\n",
              "      <th>exang</th>\n",
              "      <th>oldpeak</th>\n",
              "      <th>slope</th>\n",
              "      <th>ca</th>\n",
              "      <th>thal</th>\n",
              "      <th>target</th>\n",
              "    </tr>\n",
              "  </thead>\n",
              "  <tbody>\n",
              "    <tr>\n",
              "      <th>233</th>\n",
              "      <td>64</td>\n",
              "      <td>1</td>\n",
              "      <td>0</td>\n",
              "      <td>120</td>\n",
              "      <td>246</td>\n",
              "      <td>0</td>\n",
              "      <td>0</td>\n",
              "      <td>96</td>\n",
              "      <td>1</td>\n",
              "      <td>2.2</td>\n",
              "      <td>0</td>\n",
              "      <td>1</td>\n",
              "      <td>2</td>\n",
              "      <td>0</td>\n",
              "    </tr>\n",
              "    <tr>\n",
              "      <th>109</th>\n",
              "      <td>50</td>\n",
              "      <td>0</td>\n",
              "      <td>0</td>\n",
              "      <td>110</td>\n",
              "      <td>254</td>\n",
              "      <td>0</td>\n",
              "      <td>0</td>\n",
              "      <td>159</td>\n",
              "      <td>0</td>\n",
              "      <td>0.0</td>\n",
              "      <td>2</td>\n",
              "      <td>0</td>\n",
              "      <td>2</td>\n",
              "      <td>1</td>\n",
              "    </tr>\n",
              "    <tr>\n",
              "      <th>287</th>\n",
              "      <td>57</td>\n",
              "      <td>1</td>\n",
              "      <td>1</td>\n",
              "      <td>154</td>\n",
              "      <td>232</td>\n",
              "      <td>0</td>\n",
              "      <td>0</td>\n",
              "      <td>164</td>\n",
              "      <td>0</td>\n",
              "      <td>0.0</td>\n",
              "      <td>2</td>\n",
              "      <td>1</td>\n",
              "      <td>2</td>\n",
              "      <td>0</td>\n",
              "    </tr>\n",
              "    <tr>\n",
              "      <th>292</th>\n",
              "      <td>58</td>\n",
              "      <td>0</td>\n",
              "      <td>0</td>\n",
              "      <td>170</td>\n",
              "      <td>225</td>\n",
              "      <td>1</td>\n",
              "      <td>0</td>\n",
              "      <td>146</td>\n",
              "      <td>1</td>\n",
              "      <td>2.8</td>\n",
              "      <td>1</td>\n",
              "      <td>2</td>\n",
              "      <td>1</td>\n",
              "      <td>0</td>\n",
              "    </tr>\n",
              "    <tr>\n",
              "      <th>153</th>\n",
              "      <td>66</td>\n",
              "      <td>0</td>\n",
              "      <td>2</td>\n",
              "      <td>146</td>\n",
              "      <td>278</td>\n",
              "      <td>0</td>\n",
              "      <td>0</td>\n",
              "      <td>152</td>\n",
              "      <td>0</td>\n",
              "      <td>0.0</td>\n",
              "      <td>1</td>\n",
              "      <td>1</td>\n",
              "      <td>2</td>\n",
              "      <td>1</td>\n",
              "    </tr>\n",
              "  </tbody>\n",
              "</table>\n",
              "</div>\n",
              "      <button class=\"colab-df-convert\" onclick=\"convertToInteractive('df-59938b9e-704d-44b2-80f5-512b8a0b0495')\"\n",
              "              title=\"Convert this dataframe to an interactive table.\"\n",
              "              style=\"display:none;\">\n",
              "        \n",
              "  <svg xmlns=\"http://www.w3.org/2000/svg\" height=\"24px\"viewBox=\"0 0 24 24\"\n",
              "       width=\"24px\">\n",
              "    <path d=\"M0 0h24v24H0V0z\" fill=\"none\"/>\n",
              "    <path d=\"M18.56 5.44l.94 2.06.94-2.06 2.06-.94-2.06-.94-.94-2.06-.94 2.06-2.06.94zm-11 1L8.5 8.5l.94-2.06 2.06-.94-2.06-.94L8.5 2.5l-.94 2.06-2.06.94zm10 10l.94 2.06.94-2.06 2.06-.94-2.06-.94-.94-2.06-.94 2.06-2.06.94z\"/><path d=\"M17.41 7.96l-1.37-1.37c-.4-.4-.92-.59-1.43-.59-.52 0-1.04.2-1.43.59L10.3 9.45l-7.72 7.72c-.78.78-.78 2.05 0 2.83L4 21.41c.39.39.9.59 1.41.59.51 0 1.02-.2 1.41-.59l7.78-7.78 2.81-2.81c.8-.78.8-2.07 0-2.86zM5.41 20L4 18.59l7.72-7.72 1.47 1.35L5.41 20z\"/>\n",
              "  </svg>\n",
              "      </button>\n",
              "      \n",
              "  <style>\n",
              "    .colab-df-container {\n",
              "      display:flex;\n",
              "      flex-wrap:wrap;\n",
              "      gap: 12px;\n",
              "    }\n",
              "\n",
              "    .colab-df-convert {\n",
              "      background-color: #E8F0FE;\n",
              "      border: none;\n",
              "      border-radius: 50%;\n",
              "      cursor: pointer;\n",
              "      display: none;\n",
              "      fill: #1967D2;\n",
              "      height: 32px;\n",
              "      padding: 0 0 0 0;\n",
              "      width: 32px;\n",
              "    }\n",
              "\n",
              "    .colab-df-convert:hover {\n",
              "      background-color: #E2EBFA;\n",
              "      box-shadow: 0px 1px 2px rgba(60, 64, 67, 0.3), 0px 1px 3px 1px rgba(60, 64, 67, 0.15);\n",
              "      fill: #174EA6;\n",
              "    }\n",
              "\n",
              "    [theme=dark] .colab-df-convert {\n",
              "      background-color: #3B4455;\n",
              "      fill: #D2E3FC;\n",
              "    }\n",
              "\n",
              "    [theme=dark] .colab-df-convert:hover {\n",
              "      background-color: #434B5C;\n",
              "      box-shadow: 0px 1px 3px 1px rgba(0, 0, 0, 0.15);\n",
              "      filter: drop-shadow(0px 1px 2px rgba(0, 0, 0, 0.3));\n",
              "      fill: #FFFFFF;\n",
              "    }\n",
              "  </style>\n",
              "\n",
              "      <script>\n",
              "        const buttonEl =\n",
              "          document.querySelector('#df-59938b9e-704d-44b2-80f5-512b8a0b0495 button.colab-df-convert');\n",
              "        buttonEl.style.display =\n",
              "          google.colab.kernel.accessAllowed ? 'block' : 'none';\n",
              "\n",
              "        async function convertToInteractive(key) {\n",
              "          const element = document.querySelector('#df-59938b9e-704d-44b2-80f5-512b8a0b0495');\n",
              "          const dataTable =\n",
              "            await google.colab.kernel.invokeFunction('convertToInteractive',\n",
              "                                                     [key], {});\n",
              "          if (!dataTable) return;\n",
              "\n",
              "          const docLinkHtml = 'Like what you see? Visit the ' +\n",
              "            '<a target=\"_blank\" href=https://colab.research.google.com/notebooks/data_table.ipynb>data table notebook</a>'\n",
              "            + ' to learn more about interactive tables.';\n",
              "          element.innerHTML = '';\n",
              "          dataTable['output_type'] = 'display_data';\n",
              "          await google.colab.output.renderOutput(dataTable, element);\n",
              "          const docLink = document.createElement('div');\n",
              "          docLink.innerHTML = docLinkHtml;\n",
              "          element.appendChild(docLink);\n",
              "        }\n",
              "      </script>\n",
              "    </div>\n",
              "  </div>\n",
              "  "
            ]
          },
          "metadata": {},
          "execution_count": 20
        }
      ],
      "source": [
        "import pandas as pd\n",
        "from sklearn.preprocessing import StandardScaler\n",
        "\n",
        "df = pd.read_csv('https://ds-lecture-data.s3.ap-northeast-2.amazonaws.com/datasets/heart.csv')\n",
        "df = df.sample(frac=1)\n",
        "print(df.shape)\n",
        "df.head()\n"
      ]
    },
    {
      "cell_type": "code",
      "source": [
        "target = 'target'\n",
        "X = df.drop(columns = target)\n",
        "y = df[target]"
      ],
      "metadata": {
        "id": "1QezTEEmPVK1"
      },
      "execution_count": 30,
      "outputs": []
    },
    {
      "cell_type": "code",
      "source": [
        "y"
      ],
      "metadata": {
        "colab": {
          "base_uri": "https://localhost:8080/"
        },
        "id": "hLwdmUYTQDBr",
        "outputId": "60aeff79-1969-49e9-9daa-73ba49ca390f"
      },
      "execution_count": 32,
      "outputs": [
        {
          "output_type": "execute_result",
          "data": {
            "text/plain": [
              "233    0\n",
              "109    1\n",
              "287    0\n",
              "292    0\n",
              "153    1\n",
              "      ..\n",
              "199    0\n",
              "140    1\n",
              "267    0\n",
              "191    0\n",
              "85     1\n",
              "Name: target, Length: 303, dtype: int64"
            ]
          },
          "metadata": {},
          "execution_count": 32
        }
      ]
    },
    {
      "cell_type": "code",
      "execution_count": 33,
      "metadata": {
        "id": "mDeM_1iEw5y9"
      },
      "outputs": [],
      "source": [
        "X_train, X_test, y_train, y_test = train_test_split(X, y, test_size = 0.2)"
      ]
    },
    {
      "cell_type": "code",
      "execution_count": 34,
      "metadata": {
        "id": "xUDHLAhId4W8"
      },
      "outputs": [],
      "source": [
        "def create_model(nodes=8):\n",
        "  model = Sequential()\n",
        "  model.add(Dense(nodes, activation = 'relu'))\n",
        "  model.add(Dense(nodes, activation = 'relu'))\n",
        "  model.add(Dense(1, activation = 'sigmoid'))\n",
        "  model.compile(optimizer = 'adam', loss = 'binary_crossentropy', metrics = ['accuracy'])\n",
        "  return model"
      ]
    },
    {
      "cell_type": "code",
      "source": [
        "!pip install scikeras"
      ],
      "metadata": {
        "colab": {
          "base_uri": "https://localhost:8080/"
        },
        "id": "aGETs7QiRpRx",
        "outputId": "ea5191e9-d351-46d0-ac0c-4e5bf09a76c0"
      },
      "execution_count": 36,
      "outputs": [
        {
          "output_type": "stream",
          "name": "stdout",
          "text": [
            "Looking in indexes: https://pypi.org/simple, https://us-python.pkg.dev/colab-wheels/public/simple/\n",
            "Collecting scikeras\n",
            "  Downloading scikeras-0.10.0-py3-none-any.whl (27 kB)\n",
            "Requirement already satisfied: scikit-learn>=1.0.0 in /usr/local/lib/python3.8/dist-packages (from scikeras) (1.0.2)\n",
            "Requirement already satisfied: packaging>=0.21 in /usr/local/lib/python3.8/dist-packages (from scikeras) (21.3)\n",
            "Requirement already satisfied: pyparsing!=3.0.5,>=2.0.2 in /usr/local/lib/python3.8/dist-packages (from packaging>=0.21->scikeras) (3.0.9)\n",
            "Requirement already satisfied: joblib>=0.11 in /usr/local/lib/python3.8/dist-packages (from scikit-learn>=1.0.0->scikeras) (1.2.0)\n",
            "Requirement already satisfied: threadpoolctl>=2.0.0 in /usr/local/lib/python3.8/dist-packages (from scikit-learn>=1.0.0->scikeras) (3.1.0)\n",
            "Requirement already satisfied: numpy>=1.14.6 in /usr/local/lib/python3.8/dist-packages (from scikit-learn>=1.0.0->scikeras) (1.21.6)\n",
            "Requirement already satisfied: scipy>=1.1.0 in /usr/local/lib/python3.8/dist-packages (from scikit-learn>=1.0.0->scikeras) (1.7.3)\n",
            "Installing collected packages: scikeras\n",
            "Successfully installed scikeras-0.10.0\n"
          ]
        }
      ]
    },
    {
      "cell_type": "code",
      "source": [
        "from scikeras.wrappers import KerasClassifier"
      ],
      "metadata": {
        "id": "pafj6my4RaJe"
      },
      "execution_count": 37,
      "outputs": []
    },
    {
      "cell_type": "code",
      "source": [
        "from sklearn.model_selection import GridSearchCV"
      ],
      "metadata": {
        "id": "PDVH-uDzRoTT"
      },
      "execution_count": 38,
      "outputs": []
    },
    {
      "cell_type": "code",
      "source": [
        "model = KerasClassifier(model=create_model, batch_size=8, verbose=False)"
      ],
      "metadata": {
        "id": "Cy2xX4nAR0IZ"
      },
      "execution_count": 39,
      "outputs": []
    },
    {
      "cell_type": "code",
      "source": [
        "nodes = [16, 32, 64]\n",
        "batch_size = [8, 10, 12]"
      ],
      "metadata": {
        "id": "FkxPoL0IR4nC"
      },
      "execution_count": null,
      "outputs": []
    }
  ],
  "metadata": {
    "colab": {
      "provenance": [],
      "collapsed_sections": [
        "w94sdYZ9Ja7d"
      ],
      "include_colab_link": true
    },
    "kernelspec": {
      "display_name": "Python 3",
      "language": "python",
      "name": "python3"
    },
    "language_info": {
      "codemirror_mode": {
        "name": "ipython",
        "version": 3
      },
      "file_extension": ".py",
      "mimetype": "text/x-python",
      "name": "python",
      "nbconvert_exporter": "python",
      "pygments_lexer": "ipython3",
      "version": "3.9.4"
    },
    "nteract": {
      "version": "0.23.3"
    }
  },
  "nbformat": 4,
  "nbformat_minor": 0
}