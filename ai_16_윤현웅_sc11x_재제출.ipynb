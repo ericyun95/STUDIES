{
  "nbformat": 4,
  "nbformat_minor": 0,
  "metadata": {
    "colab": {
      "provenance": [],
      "collapsed_sections": [],
      "include_colab_link": true
    },
    "kernelspec": {
      "name": "python3",
      "display_name": "Python 3"
    },
    "language_info": {
      "name": "python"
    }
  },
  "cells": [
    {
      "cell_type": "markdown",
      "metadata": {
        "id": "view-in-github",
        "colab_type": "text"
      },
      "source": [
        "<a href=\"https://colab.research.google.com/github/ericyun95/STUDIES/blob/master/ai_16_%EC%9C%A4%ED%98%84%EC%9B%85_sc11x_%EC%9E%AC%EC%A0%9C%EC%B6%9C.ipynb\" target=\"_parent\"><img src=\"https://colab.research.google.com/assets/colab-badge.svg\" alt=\"Open In Colab\"/></a>"
      ]
    },
    {
      "cell_type": "markdown",
      "source": [
        "<img src='https://i.imgur.com/RDAD11M.png' width = '200' align = 'right'>\n",
        "\n",
        "# **SC11x**\n",
        "\n",
        "# **Data Preprocessing & Exploratory Data Analysis**"
      ],
      "metadata": {
        "id": "Pj4YIBmHkJK1"
      }
    },
    {
      "cell_type": "markdown",
      "source": [
        "## **Part 1. Data Wrangling**\n",
        "\n",
        "이번 파트에서는 [Gapminder](https://www.gapminder.org/about-gapminder/)의 데이터를 다루게 됩니다.\n",
        "\n",
        "데이터는 3가지로 구성되어 있습니다.\n",
        "\n",
        "- <https://ds-lecture-data.s3.ap-northeast-2.amazonaws.com/gapminder/data1.csv>\n",
        "- <https://ds-lecture-data.s3.ap-northeast-2.amazonaws.com/gapminder/data2.csv>\n",
        "- <https://ds-lecture-data.s3.ap-northeast-2.amazonaws.com/gapminder/data3.csv>"
      ],
      "metadata": {
        "id": "HjGBD5I5kJJc"
      }
    },
    {
      "cell_type": "markdown",
      "source": [
        "### **1-1. Load and Explore the Data**"
      ],
      "metadata": {
        "id": "Xx42xaNhkcHE"
      }
    },
    {
      "cell_type": "markdown",
      "source": [
        "#### **1-1-a. 각 데이터셋을 데이터프레임으로 불러와 변수 `df1`, `df2`, `df3`에 저장하세요.**"
      ],
      "metadata": {
        "id": "ayHE1-75k0gG"
      }
    },
    {
      "cell_type": "code",
      "source": [
        "# 이곳에 코드를 작성하세요.\n",
        "import pandas as pd\n",
        "import numpy as np"
      ],
      "metadata": {
        "id": "Fp2ReafhkL6l"
      },
      "execution_count": null,
      "outputs": []
    },
    {
      "cell_type": "code",
      "source": [
        "df1 = pd.read_csv(\"http://ds-lecture-data.s3.ap-northeast-2.amazonaws.com/gapminder/data1.csv\", index_col = 0)\n",
        "df2 = pd.read_csv(\"http://ds-lecture-data.s3.ap-northeast-2.amazonaws.com/gapminder/data2.csv\", index_col = 0)\n",
        "df3 = pd.read_csv(\"http://ds-lecture-data.s3.ap-northeast-2.amazonaws.com/gapminder/data3.csv\", index_col = 0)"
      ],
      "metadata": {
        "id": "VggAFZe82Dgb"
      },
      "execution_count": null,
      "outputs": []
    },
    {
      "cell_type": "code",
      "source": [
        "df1.head()"
      ],
      "metadata": {
        "colab": {
          "base_uri": "https://localhost:8080/",
          "height": 206
        },
        "id": "ouK2wYxG3SDH",
        "outputId": "1aaa7990-7bf0-42d7-d064-44306f8e764a"
      },
      "execution_count": null,
      "outputs": [
        {
          "output_type": "execute_result",
          "data": {
            "text/plain": [
              "   geo  time  cell_phones_total\n",
              "0  abw  1960                0.0\n",
              "1  abw  1965                0.0\n",
              "2  abw  1970                0.0\n",
              "3  abw  1975                0.0\n",
              "4  abw  1976                0.0"
            ],
            "text/html": [
              "\n",
              "  <div id=\"df-c8a95218-9c95-41bb-8392-511cb8fffbd9\">\n",
              "    <div class=\"colab-df-container\">\n",
              "      <div>\n",
              "<style scoped>\n",
              "    .dataframe tbody tr th:only-of-type {\n",
              "        vertical-align: middle;\n",
              "    }\n",
              "\n",
              "    .dataframe tbody tr th {\n",
              "        vertical-align: top;\n",
              "    }\n",
              "\n",
              "    .dataframe thead th {\n",
              "        text-align: right;\n",
              "    }\n",
              "</style>\n",
              "<table border=\"1\" class=\"dataframe\">\n",
              "  <thead>\n",
              "    <tr style=\"text-align: right;\">\n",
              "      <th></th>\n",
              "      <th>geo</th>\n",
              "      <th>time</th>\n",
              "      <th>cell_phones_total</th>\n",
              "    </tr>\n",
              "  </thead>\n",
              "  <tbody>\n",
              "    <tr>\n",
              "      <th>0</th>\n",
              "      <td>abw</td>\n",
              "      <td>1960</td>\n",
              "      <td>0.0</td>\n",
              "    </tr>\n",
              "    <tr>\n",
              "      <th>1</th>\n",
              "      <td>abw</td>\n",
              "      <td>1965</td>\n",
              "      <td>0.0</td>\n",
              "    </tr>\n",
              "    <tr>\n",
              "      <th>2</th>\n",
              "      <td>abw</td>\n",
              "      <td>1970</td>\n",
              "      <td>0.0</td>\n",
              "    </tr>\n",
              "    <tr>\n",
              "      <th>3</th>\n",
              "      <td>abw</td>\n",
              "      <td>1975</td>\n",
              "      <td>0.0</td>\n",
              "    </tr>\n",
              "    <tr>\n",
              "      <th>4</th>\n",
              "      <td>abw</td>\n",
              "      <td>1976</td>\n",
              "      <td>0.0</td>\n",
              "    </tr>\n",
              "  </tbody>\n",
              "</table>\n",
              "</div>\n",
              "      <button class=\"colab-df-convert\" onclick=\"convertToInteractive('df-c8a95218-9c95-41bb-8392-511cb8fffbd9')\"\n",
              "              title=\"Convert this dataframe to an interactive table.\"\n",
              "              style=\"display:none;\">\n",
              "        \n",
              "  <svg xmlns=\"http://www.w3.org/2000/svg\" height=\"24px\"viewBox=\"0 0 24 24\"\n",
              "       width=\"24px\">\n",
              "    <path d=\"M0 0h24v24H0V0z\" fill=\"none\"/>\n",
              "    <path d=\"M18.56 5.44l.94 2.06.94-2.06 2.06-.94-2.06-.94-.94-2.06-.94 2.06-2.06.94zm-11 1L8.5 8.5l.94-2.06 2.06-.94-2.06-.94L8.5 2.5l-.94 2.06-2.06.94zm10 10l.94 2.06.94-2.06 2.06-.94-2.06-.94-.94-2.06-.94 2.06-2.06.94z\"/><path d=\"M17.41 7.96l-1.37-1.37c-.4-.4-.92-.59-1.43-.59-.52 0-1.04.2-1.43.59L10.3 9.45l-7.72 7.72c-.78.78-.78 2.05 0 2.83L4 21.41c.39.39.9.59 1.41.59.51 0 1.02-.2 1.41-.59l7.78-7.78 2.81-2.81c.8-.78.8-2.07 0-2.86zM5.41 20L4 18.59l7.72-7.72 1.47 1.35L5.41 20z\"/>\n",
              "  </svg>\n",
              "      </button>\n",
              "      \n",
              "  <style>\n",
              "    .colab-df-container {\n",
              "      display:flex;\n",
              "      flex-wrap:wrap;\n",
              "      gap: 12px;\n",
              "    }\n",
              "\n",
              "    .colab-df-convert {\n",
              "      background-color: #E8F0FE;\n",
              "      border: none;\n",
              "      border-radius: 50%;\n",
              "      cursor: pointer;\n",
              "      display: none;\n",
              "      fill: #1967D2;\n",
              "      height: 32px;\n",
              "      padding: 0 0 0 0;\n",
              "      width: 32px;\n",
              "    }\n",
              "\n",
              "    .colab-df-convert:hover {\n",
              "      background-color: #E2EBFA;\n",
              "      box-shadow: 0px 1px 2px rgba(60, 64, 67, 0.3), 0px 1px 3px 1px rgba(60, 64, 67, 0.15);\n",
              "      fill: #174EA6;\n",
              "    }\n",
              "\n",
              "    [theme=dark] .colab-df-convert {\n",
              "      background-color: #3B4455;\n",
              "      fill: #D2E3FC;\n",
              "    }\n",
              "\n",
              "    [theme=dark] .colab-df-convert:hover {\n",
              "      background-color: #434B5C;\n",
              "      box-shadow: 0px 1px 3px 1px rgba(0, 0, 0, 0.15);\n",
              "      filter: drop-shadow(0px 1px 2px rgba(0, 0, 0, 0.3));\n",
              "      fill: #FFFFFF;\n",
              "    }\n",
              "  </style>\n",
              "\n",
              "      <script>\n",
              "        const buttonEl =\n",
              "          document.querySelector('#df-c8a95218-9c95-41bb-8392-511cb8fffbd9 button.colab-df-convert');\n",
              "        buttonEl.style.display =\n",
              "          google.colab.kernel.accessAllowed ? 'block' : 'none';\n",
              "\n",
              "        async function convertToInteractive(key) {\n",
              "          const element = document.querySelector('#df-c8a95218-9c95-41bb-8392-511cb8fffbd9');\n",
              "          const dataTable =\n",
              "            await google.colab.kernel.invokeFunction('convertToInteractive',\n",
              "                                                     [key], {});\n",
              "          if (!dataTable) return;\n",
              "\n",
              "          const docLinkHtml = 'Like what you see? Visit the ' +\n",
              "            '<a target=\"_blank\" href=https://colab.research.google.com/notebooks/data_table.ipynb>data table notebook</a>'\n",
              "            + ' to learn more about interactive tables.';\n",
              "          element.innerHTML = '';\n",
              "          dataTable['output_type'] = 'display_data';\n",
              "          await google.colab.output.renderOutput(dataTable, element);\n",
              "          const docLink = document.createElement('div');\n",
              "          docLink.innerHTML = docLinkHtml;\n",
              "          element.appendChild(docLink);\n",
              "        }\n",
              "      </script>\n",
              "    </div>\n",
              "  </div>\n",
              "  "
            ]
          },
          "metadata": {},
          "execution_count": 10
        }
      ]
    },
    {
      "cell_type": "markdown",
      "source": [
        "#### **1-1-b. 각 데이터프레임의 결측 데이터를 확인하세요.**"
      ],
      "metadata": {
        "id": "yA5n51wak5UA"
      }
    },
    {
      "cell_type": "code",
      "source": [
        "# 이곳에 코드를 작성하세요.\n",
        "print(df1.isnull().sum())\n",
        "print(df2.isnull().sum())\n",
        "print(df3.isnull().sum())"
      ],
      "metadata": {
        "id": "2duzu8H8kOhP",
        "colab": {
          "base_uri": "https://localhost:8080/"
        },
        "outputId": "e8e8eb98-da8a-4ef0-baca-fc480c16d8e9"
      },
      "execution_count": null,
      "outputs": [
        {
          "output_type": "stream",
          "name": "stdout",
          "text": [
            "geo                  0\n",
            "time                 0\n",
            "cell_phones_total    0\n",
            "dtype: int64\n",
            "geo           0\n",
            "time          0\n",
            "population    0\n",
            "dtype: int64\n",
            "geo        0\n",
            "country    0\n",
            "dtype: int64\n"
          ]
        }
      ]
    },
    {
      "cell_type": "markdown",
      "source": [
        "#### **1-1-c. 각 데이터프레임의 중복 데이터를 확인하세요.**"
      ],
      "metadata": {
        "id": "eddgIZtE7EMj"
      }
    },
    {
      "cell_type": "code",
      "source": [
        "# 이곳에 코드를 작성하세요.\n",
        "print(df1.duplicated().sum())\n",
        "print(df2.duplicated().sum())\n",
        "print(df3.duplicated().sum())"
      ],
      "metadata": {
        "id": "5cbO6RQXkQlz",
        "colab": {
          "base_uri": "https://localhost:8080/"
        },
        "outputId": "1c4d86fb-a41c-47c3-84cf-5a85f345f089"
      },
      "execution_count": null,
      "outputs": [
        {
          "output_type": "stream",
          "name": "stdout",
          "text": [
            "0\n",
            "0\n",
            "0\n"
          ]
        }
      ]
    },
    {
      "cell_type": "markdown",
      "source": [
        "##### **Q1. 위에서 구한 데이터프레임의 결측 데이터의 수와 중복 데이터의 수를 각각 합한 값을 (`a`, `b`, `c`)의 형태로 쓰세요.**\n",
        "\n",
        "- `a`에는 `df1` 데이터프레임의 결측 데이터 수와 중복 데이터 수를 합한 값이 들어갑니다.\n",
        "- `b`에는 `df2` 데이터프레임의 결측 데이터 수와 중복 데이터 수를 합한 값이 들어갑니다.\n",
        "- `c`에는 `df3` 데이터프레임의 결측 데이터 수와 중복 데이터 수를 합한 값이 들어갑니다.\n",
        "\n",
        "\n"
      ],
      "metadata": {
        "id": "ZG7o_-d_bWCz"
      }
    },
    {
      "cell_type": "code",
      "source": [
        "# 이곳에 코드를 작성하세요.\n",
        "(0,0,0)"
      ],
      "metadata": {
        "id": "aphELmmAkTRt",
        "colab": {
          "base_uri": "https://localhost:8080/"
        },
        "outputId": "3dfff433-d5b9-4299-f67f-e0024d5a3a1d"
      },
      "execution_count": null,
      "outputs": [
        {
          "output_type": "execute_result",
          "data": {
            "text/plain": [
              "(0, 0, 0)"
            ]
          },
          "metadata": {},
          "execution_count": 17
        }
      ]
    },
    {
      "cell_type": "markdown",
      "source": [
        "#### **1-1-d. `df1`에서 `geo` column의 usa와 chn 데이터만 추출하여, `time` 값에 따른 `cell_phones_total` 값의 변화를 볼 수 있도록 하나의 scatter plot을 그리세요.**\n",
        "- **Tip** : seaborn 라이브러리의 `.scatterplot()`을 사용하여 `hue` 파라미터를 설정할 수 있습니다. "
      ],
      "metadata": {
        "id": "r-MVrPzRlFJw"
      }
    },
    {
      "cell_type": "code",
      "source": [
        "import seaborn as sns"
      ],
      "metadata": {
        "id": "WBMMXTcEUJxF"
      },
      "execution_count": null,
      "outputs": []
    },
    {
      "cell_type": "code",
      "source": [
        "df1.head()"
      ],
      "metadata": {
        "colab": {
          "base_uri": "https://localhost:8080/",
          "height": 206
        },
        "id": "FP2QuoIwSi9r",
        "outputId": "998eeac5-836f-4d97-8f36-8af2db08a9aa"
      },
      "execution_count": null,
      "outputs": [
        {
          "output_type": "execute_result",
          "data": {
            "text/plain": [
              "   geo  time  cell_phones_total\n",
              "0  abw  1960                0.0\n",
              "1  abw  1965                0.0\n",
              "2  abw  1970                0.0\n",
              "3  abw  1975                0.0\n",
              "4  abw  1976                0.0"
            ],
            "text/html": [
              "\n",
              "  <div id=\"df-c5fd302a-d466-486a-9c2b-6fa134014618\">\n",
              "    <div class=\"colab-df-container\">\n",
              "      <div>\n",
              "<style scoped>\n",
              "    .dataframe tbody tr th:only-of-type {\n",
              "        vertical-align: middle;\n",
              "    }\n",
              "\n",
              "    .dataframe tbody tr th {\n",
              "        vertical-align: top;\n",
              "    }\n",
              "\n",
              "    .dataframe thead th {\n",
              "        text-align: right;\n",
              "    }\n",
              "</style>\n",
              "<table border=\"1\" class=\"dataframe\">\n",
              "  <thead>\n",
              "    <tr style=\"text-align: right;\">\n",
              "      <th></th>\n",
              "      <th>geo</th>\n",
              "      <th>time</th>\n",
              "      <th>cell_phones_total</th>\n",
              "    </tr>\n",
              "  </thead>\n",
              "  <tbody>\n",
              "    <tr>\n",
              "      <th>0</th>\n",
              "      <td>abw</td>\n",
              "      <td>1960</td>\n",
              "      <td>0.0</td>\n",
              "    </tr>\n",
              "    <tr>\n",
              "      <th>1</th>\n",
              "      <td>abw</td>\n",
              "      <td>1965</td>\n",
              "      <td>0.0</td>\n",
              "    </tr>\n",
              "    <tr>\n",
              "      <th>2</th>\n",
              "      <td>abw</td>\n",
              "      <td>1970</td>\n",
              "      <td>0.0</td>\n",
              "    </tr>\n",
              "    <tr>\n",
              "      <th>3</th>\n",
              "      <td>abw</td>\n",
              "      <td>1975</td>\n",
              "      <td>0.0</td>\n",
              "    </tr>\n",
              "    <tr>\n",
              "      <th>4</th>\n",
              "      <td>abw</td>\n",
              "      <td>1976</td>\n",
              "      <td>0.0</td>\n",
              "    </tr>\n",
              "  </tbody>\n",
              "</table>\n",
              "</div>\n",
              "      <button class=\"colab-df-convert\" onclick=\"convertToInteractive('df-c5fd302a-d466-486a-9c2b-6fa134014618')\"\n",
              "              title=\"Convert this dataframe to an interactive table.\"\n",
              "              style=\"display:none;\">\n",
              "        \n",
              "  <svg xmlns=\"http://www.w3.org/2000/svg\" height=\"24px\"viewBox=\"0 0 24 24\"\n",
              "       width=\"24px\">\n",
              "    <path d=\"M0 0h24v24H0V0z\" fill=\"none\"/>\n",
              "    <path d=\"M18.56 5.44l.94 2.06.94-2.06 2.06-.94-2.06-.94-.94-2.06-.94 2.06-2.06.94zm-11 1L8.5 8.5l.94-2.06 2.06-.94-2.06-.94L8.5 2.5l-.94 2.06-2.06.94zm10 10l.94 2.06.94-2.06 2.06-.94-2.06-.94-.94-2.06-.94 2.06-2.06.94z\"/><path d=\"M17.41 7.96l-1.37-1.37c-.4-.4-.92-.59-1.43-.59-.52 0-1.04.2-1.43.59L10.3 9.45l-7.72 7.72c-.78.78-.78 2.05 0 2.83L4 21.41c.39.39.9.59 1.41.59.51 0 1.02-.2 1.41-.59l7.78-7.78 2.81-2.81c.8-.78.8-2.07 0-2.86zM5.41 20L4 18.59l7.72-7.72 1.47 1.35L5.41 20z\"/>\n",
              "  </svg>\n",
              "      </button>\n",
              "      \n",
              "  <style>\n",
              "    .colab-df-container {\n",
              "      display:flex;\n",
              "      flex-wrap:wrap;\n",
              "      gap: 12px;\n",
              "    }\n",
              "\n",
              "    .colab-df-convert {\n",
              "      background-color: #E8F0FE;\n",
              "      border: none;\n",
              "      border-radius: 50%;\n",
              "      cursor: pointer;\n",
              "      display: none;\n",
              "      fill: #1967D2;\n",
              "      height: 32px;\n",
              "      padding: 0 0 0 0;\n",
              "      width: 32px;\n",
              "    }\n",
              "\n",
              "    .colab-df-convert:hover {\n",
              "      background-color: #E2EBFA;\n",
              "      box-shadow: 0px 1px 2px rgba(60, 64, 67, 0.3), 0px 1px 3px 1px rgba(60, 64, 67, 0.15);\n",
              "      fill: #174EA6;\n",
              "    }\n",
              "\n",
              "    [theme=dark] .colab-df-convert {\n",
              "      background-color: #3B4455;\n",
              "      fill: #D2E3FC;\n",
              "    }\n",
              "\n",
              "    [theme=dark] .colab-df-convert:hover {\n",
              "      background-color: #434B5C;\n",
              "      box-shadow: 0px 1px 3px 1px rgba(0, 0, 0, 0.15);\n",
              "      filter: drop-shadow(0px 1px 2px rgba(0, 0, 0, 0.3));\n",
              "      fill: #FFFFFF;\n",
              "    }\n",
              "  </style>\n",
              "\n",
              "      <script>\n",
              "        const buttonEl =\n",
              "          document.querySelector('#df-c5fd302a-d466-486a-9c2b-6fa134014618 button.colab-df-convert');\n",
              "        buttonEl.style.display =\n",
              "          google.colab.kernel.accessAllowed ? 'block' : 'none';\n",
              "\n",
              "        async function convertToInteractive(key) {\n",
              "          const element = document.querySelector('#df-c5fd302a-d466-486a-9c2b-6fa134014618');\n",
              "          const dataTable =\n",
              "            await google.colab.kernel.invokeFunction('convertToInteractive',\n",
              "                                                     [key], {});\n",
              "          if (!dataTable) return;\n",
              "\n",
              "          const docLinkHtml = 'Like what you see? Visit the ' +\n",
              "            '<a target=\"_blank\" href=https://colab.research.google.com/notebooks/data_table.ipynb>data table notebook</a>'\n",
              "            + ' to learn more about interactive tables.';\n",
              "          element.innerHTML = '';\n",
              "          dataTable['output_type'] = 'display_data';\n",
              "          await google.colab.output.renderOutput(dataTable, element);\n",
              "          const docLink = document.createElement('div');\n",
              "          docLink.innerHTML = docLinkHtml;\n",
              "          element.appendChild(docLink);\n",
              "        }\n",
              "      </script>\n",
              "    </div>\n",
              "  </div>\n",
              "  "
            ]
          },
          "metadata": {},
          "execution_count": 20
        }
      ]
    },
    {
      "cell_type": "code",
      "source": [
        "# 이곳에 코드를 작성하세요.\n",
        "df1_usachn = df1[(df1.geo == 'usa') | (df1.geo == 'chn')]"
      ],
      "metadata": {
        "id": "7iuXa1yzkZHp"
      },
      "execution_count": null,
      "outputs": []
    },
    {
      "cell_type": "code",
      "source": [
        "df1_usachn.head()"
      ],
      "metadata": {
        "colab": {
          "base_uri": "https://localhost:8080/",
          "height": 206
        },
        "id": "MMYMNT5AS01p",
        "outputId": "10b4563b-d150-43b7-d3e3-9ccdc3dbd975"
      },
      "execution_count": null,
      "outputs": [
        {
          "output_type": "execute_result",
          "data": {
            "text/plain": [
              "      geo  time  cell_phones_total\n",
              "1627  chn  1960                0.0\n",
              "1628  chn  1965                0.0\n",
              "1629  chn  1970                0.0\n",
              "1630  chn  1975                0.0\n",
              "1631  chn  1976                0.0"
            ],
            "text/html": [
              "\n",
              "  <div id=\"df-6c0fb9eb-4294-4353-ad95-76a917fe5bd2\">\n",
              "    <div class=\"colab-df-container\">\n",
              "      <div>\n",
              "<style scoped>\n",
              "    .dataframe tbody tr th:only-of-type {\n",
              "        vertical-align: middle;\n",
              "    }\n",
              "\n",
              "    .dataframe tbody tr th {\n",
              "        vertical-align: top;\n",
              "    }\n",
              "\n",
              "    .dataframe thead th {\n",
              "        text-align: right;\n",
              "    }\n",
              "</style>\n",
              "<table border=\"1\" class=\"dataframe\">\n",
              "  <thead>\n",
              "    <tr style=\"text-align: right;\">\n",
              "      <th></th>\n",
              "      <th>geo</th>\n",
              "      <th>time</th>\n",
              "      <th>cell_phones_total</th>\n",
              "    </tr>\n",
              "  </thead>\n",
              "  <tbody>\n",
              "    <tr>\n",
              "      <th>1627</th>\n",
              "      <td>chn</td>\n",
              "      <td>1960</td>\n",
              "      <td>0.0</td>\n",
              "    </tr>\n",
              "    <tr>\n",
              "      <th>1628</th>\n",
              "      <td>chn</td>\n",
              "      <td>1965</td>\n",
              "      <td>0.0</td>\n",
              "    </tr>\n",
              "    <tr>\n",
              "      <th>1629</th>\n",
              "      <td>chn</td>\n",
              "      <td>1970</td>\n",
              "      <td>0.0</td>\n",
              "    </tr>\n",
              "    <tr>\n",
              "      <th>1630</th>\n",
              "      <td>chn</td>\n",
              "      <td>1975</td>\n",
              "      <td>0.0</td>\n",
              "    </tr>\n",
              "    <tr>\n",
              "      <th>1631</th>\n",
              "      <td>chn</td>\n",
              "      <td>1976</td>\n",
              "      <td>0.0</td>\n",
              "    </tr>\n",
              "  </tbody>\n",
              "</table>\n",
              "</div>\n",
              "      <button class=\"colab-df-convert\" onclick=\"convertToInteractive('df-6c0fb9eb-4294-4353-ad95-76a917fe5bd2')\"\n",
              "              title=\"Convert this dataframe to an interactive table.\"\n",
              "              style=\"display:none;\">\n",
              "        \n",
              "  <svg xmlns=\"http://www.w3.org/2000/svg\" height=\"24px\"viewBox=\"0 0 24 24\"\n",
              "       width=\"24px\">\n",
              "    <path d=\"M0 0h24v24H0V0z\" fill=\"none\"/>\n",
              "    <path d=\"M18.56 5.44l.94 2.06.94-2.06 2.06-.94-2.06-.94-.94-2.06-.94 2.06-2.06.94zm-11 1L8.5 8.5l.94-2.06 2.06-.94-2.06-.94L8.5 2.5l-.94 2.06-2.06.94zm10 10l.94 2.06.94-2.06 2.06-.94-2.06-.94-.94-2.06-.94 2.06-2.06.94z\"/><path d=\"M17.41 7.96l-1.37-1.37c-.4-.4-.92-.59-1.43-.59-.52 0-1.04.2-1.43.59L10.3 9.45l-7.72 7.72c-.78.78-.78 2.05 0 2.83L4 21.41c.39.39.9.59 1.41.59.51 0 1.02-.2 1.41-.59l7.78-7.78 2.81-2.81c.8-.78.8-2.07 0-2.86zM5.41 20L4 18.59l7.72-7.72 1.47 1.35L5.41 20z\"/>\n",
              "  </svg>\n",
              "      </button>\n",
              "      \n",
              "  <style>\n",
              "    .colab-df-container {\n",
              "      display:flex;\n",
              "      flex-wrap:wrap;\n",
              "      gap: 12px;\n",
              "    }\n",
              "\n",
              "    .colab-df-convert {\n",
              "      background-color: #E8F0FE;\n",
              "      border: none;\n",
              "      border-radius: 50%;\n",
              "      cursor: pointer;\n",
              "      display: none;\n",
              "      fill: #1967D2;\n",
              "      height: 32px;\n",
              "      padding: 0 0 0 0;\n",
              "      width: 32px;\n",
              "    }\n",
              "\n",
              "    .colab-df-convert:hover {\n",
              "      background-color: #E2EBFA;\n",
              "      box-shadow: 0px 1px 2px rgba(60, 64, 67, 0.3), 0px 1px 3px 1px rgba(60, 64, 67, 0.15);\n",
              "      fill: #174EA6;\n",
              "    }\n",
              "\n",
              "    [theme=dark] .colab-df-convert {\n",
              "      background-color: #3B4455;\n",
              "      fill: #D2E3FC;\n",
              "    }\n",
              "\n",
              "    [theme=dark] .colab-df-convert:hover {\n",
              "      background-color: #434B5C;\n",
              "      box-shadow: 0px 1px 3px 1px rgba(0, 0, 0, 0.15);\n",
              "      filter: drop-shadow(0px 1px 2px rgba(0, 0, 0, 0.3));\n",
              "      fill: #FFFFFF;\n",
              "    }\n",
              "  </style>\n",
              "\n",
              "      <script>\n",
              "        const buttonEl =\n",
              "          document.querySelector('#df-6c0fb9eb-4294-4353-ad95-76a917fe5bd2 button.colab-df-convert');\n",
              "        buttonEl.style.display =\n",
              "          google.colab.kernel.accessAllowed ? 'block' : 'none';\n",
              "\n",
              "        async function convertToInteractive(key) {\n",
              "          const element = document.querySelector('#df-6c0fb9eb-4294-4353-ad95-76a917fe5bd2');\n",
              "          const dataTable =\n",
              "            await google.colab.kernel.invokeFunction('convertToInteractive',\n",
              "                                                     [key], {});\n",
              "          if (!dataTable) return;\n",
              "\n",
              "          const docLinkHtml = 'Like what you see? Visit the ' +\n",
              "            '<a target=\"_blank\" href=https://colab.research.google.com/notebooks/data_table.ipynb>data table notebook</a>'\n",
              "            + ' to learn more about interactive tables.';\n",
              "          element.innerHTML = '';\n",
              "          dataTable['output_type'] = 'display_data';\n",
              "          await google.colab.output.renderOutput(dataTable, element);\n",
              "          const docLink = document.createElement('div');\n",
              "          docLink.innerHTML = docLinkHtml;\n",
              "          element.appendChild(docLink);\n",
              "        }\n",
              "      </script>\n",
              "    </div>\n",
              "  </div>\n",
              "  "
            ]
          },
          "metadata": {},
          "execution_count": 27
        }
      ]
    },
    {
      "cell_type": "code",
      "source": [
        "sns.scatterplot(x = df1_usachn.time, y = df1_usachn.cell_phones_total, hue = df1_usachn.geo)"
      ],
      "metadata": {
        "colab": {
          "base_uri": "https://localhost:8080/",
          "height": 308
        },
        "id": "iyJ92HODUH34",
        "outputId": "c9ba525e-b928-42e8-a018-b4c9cc92cc66"
      },
      "execution_count": null,
      "outputs": [
        {
          "output_type": "execute_result",
          "data": {
            "text/plain": [
              "<matplotlib.axes._subplots.AxesSubplot at 0x7f23b5950350>"
            ]
          },
          "metadata": {},
          "execution_count": 29
        },
        {
          "output_type": "display_data",
          "data": {
            "text/plain": [
              "<Figure size 432x288 with 1 Axes>"
            ],
            "image/png": "[encoded data removed]"
          },
          "metadata": {
            "needs_background": "light"
          }
        }
      ]
    },
    {
      "cell_type": "markdown",
      "source": [
        "##### **Q2. Scatter plot에서 두 나라 중 2000년대 이후로 `cell_phones_total` 값이 더 급격하게 증가하는 나라의 `geo`를 쓰세요.**"
      ],
      "metadata": {
        "id": "Nhtw5Yy8bcde"
      }
    },
    {
      "cell_type": "markdown",
      "source": [
        "**`이곳에 Q2에 대한 답을 작성하세요.`** chn\n",
        "\n",
        "> 들여쓴 블록\n",
        "\n"
      ],
      "metadata": {
        "id": "2m5TI2nUkctn"
      }
    },
    {
      "cell_type": "markdown",
      "source": [
        "### **1-2. Join Data**\n",
        "\n",
        "세 데이터프레임을 합쳐, 하나의 데이터프레임으로 만들어봅니다."
      ],
      "metadata": {
        "id": "y_mV-YO0m4-C"
      }
    },
    {
      "cell_type": "markdown",
      "source": [
        "\n",
        "\n",
        "- `df1`과 `df2`에 공통으로 존재하는 column들을 확인한 후, 해당 공통 column들의 교집합인 데이터를 기준으로 합쳐 새로운 데이터프레임을 만드세요. \n",
        "- 위에서 만든 데이터프레임과 `df3`를 공통 column의 교집합인 데이터를 기준으로 합쳐 새로운 데이터프레임을 변수 `df4`에 저장하세요.\n",
        "  - `df4`는 다음과 같으며 shape은 (9568, 5)가 되어야 합니다.\n",
        "\n",
        "|geo|time|cell_phones_total|population|country|\n",
        "|:-:|:-:|:-:|:-:|:-:|\n",
        "|abw|1960|0|54211|Aruba|\n",
        "|...|...|...|...|...|\n",
        "|zwe|2019|13195902.0|14645468|Zimbabwe|"
      ],
      "metadata": {
        "id": "fq7w3-0TqgNp"
      }
    },
    {
      "cell_type": "code",
      "source": [
        "# 이곳에 코드를 작성하세요.\n",
        "print(df1.columns, df2.columns)"
      ],
      "metadata": {
        "id": "7Z6AR9-RknJG",
        "colab": {
          "base_uri": "https://localhost:8080/"
        },
        "outputId": "e0a1d748-c135-4915-f1e1-326522e828f8"
      },
      "execution_count": null,
      "outputs": [
        {
          "output_type": "stream",
          "name": "stdout",
          "text": [
            "Index(['geo', 'time', 'cell_phones_total'], dtype='object') Index(['geo', 'time', 'population'], dtype='object')\n"
          ]
        }
      ]
    },
    {
      "cell_type": "code",
      "source": [
        "print(df1.shape, df2.shape)"
      ],
      "metadata": {
        "colab": {
          "base_uri": "https://localhost:8080/"
        },
        "id": "p9kF26JrWuW4",
        "outputId": "67563472-32c5-4b6d-bc2b-2329f67764e4"
      },
      "execution_count": null,
      "outputs": [
        {
          "output_type": "stream",
          "name": "stdout",
          "text": [
            "(9574, 3) (35334, 3)\n"
          ]
        }
      ]
    },
    {
      "cell_type": "code",
      "source": [
        "df_test = df1.merge(df2, on =['geo', 'time'], how = 'inner')"
      ],
      "metadata": {
        "id": "kQJ5aD_-VNQ0"
      },
      "execution_count": null,
      "outputs": []
    },
    {
      "cell_type": "code",
      "source": [
        "df_test.shape"
      ],
      "metadata": {
        "colab": {
          "base_uri": "https://localhost:8080/"
        },
        "id": "QpyGANEKeZAj",
        "outputId": "76d65729-5a23-4aa3-c60c-145330a7d602"
      },
      "execution_count": null,
      "outputs": [
        {
          "output_type": "execute_result",
          "data": {
            "text/plain": [
              "(9568, 4)"
            ]
          },
          "metadata": {},
          "execution_count": 50
        }
      ]
    },
    {
      "cell_type": "code",
      "source": [
        "df_test2 = df_test.merge(df3, on = 'geo', how = 'inner')"
      ],
      "metadata": {
        "id": "PXFkbHVrWZ69"
      },
      "execution_count": null,
      "outputs": []
    },
    {
      "cell_type": "code",
      "source": [
        "df_test2"
      ],
      "metadata": {
        "colab": {
          "base_uri": "https://localhost:8080/",
          "height": 424
        },
        "id": "nr356YUddj-X",
        "outputId": "f4863477-06aa-4088-e3fb-7d96e5d82710"
      },
      "execution_count": null,
      "outputs": [
        {
          "output_type": "execute_result",
          "data": {
            "text/plain": [
              "      geo  time  cell_phones_total  population   country\n",
              "0     abw  1960                0.0       54211     Aruba\n",
              "1     abw  1965                0.0       57360     Aruba\n",
              "2     abw  1970                0.0       59063     Aruba\n",
              "3     abw  1975                0.0       60657     Aruba\n",
              "4     abw  1976                0.0       60586     Aruba\n",
              "...   ...   ...                ...         ...       ...\n",
              "9563  zwe  2015         12757410.0    13814629  Zimbabwe\n",
              "9564  zwe  2016         12878926.0    14030331  Zimbabwe\n",
              "9565  zwe  2017         14092104.0    14236595  Zimbabwe\n",
              "9566  zwe  2018         12908992.0    14438802  Zimbabwe\n",
              "9567  zwe  2019         13195902.0    14645468  Zimbabwe\n",
              "\n",
              "[9568 rows x 5 columns]"
            ],
            "text/html": [
              "\n",
              "  <div id=\"df-0be1a93c-90b0-4219-bc86-e4b8d26089b8\">\n",
              "    <div class=\"colab-df-container\">\n",
              "      <div>\n",
              "<style scoped>\n",
              "    .dataframe tbody tr th:only-of-type {\n",
              "        vertical-align: middle;\n",
              "    }\n",
              "\n",
              "    .dataframe tbody tr th {\n",
              "        vertical-align: top;\n",
              "    }\n",
              "\n",
              "    .dataframe thead th {\n",
              "        text-align: right;\n",
              "    }\n",
              "</style>\n",
              "<table border=\"1\" class=\"dataframe\">\n",
              "  <thead>\n",
              "    <tr style=\"text-align: right;\">\n",
              "      <th></th>\n",
              "      <th>geo</th>\n",
              "      <th>time</th>\n",
              "      <th>cell_phones_total</th>\n",
              "      <th>population</th>\n",
              "      <th>country</th>\n",
              "    </tr>\n",
              "  </thead>\n",
              "  <tbody>\n",
              "    <tr>\n",
              "      <th>0</th>\n",
              "      <td>abw</td>\n",
              "      <td>1960</td>\n",
              "      <td>0.0</td>\n",
              "      <td>54211</td>\n",
              "      <td>Aruba</td>\n",
              "    </tr>\n",
              "    <tr>\n",
              "      <th>1</th>\n",
              "      <td>abw</td>\n",
              "      <td>1965</td>\n",
              "      <td>0.0</td>\n",
              "      <td>57360</td>\n",
              "      <td>Aruba</td>\n",
              "    </tr>\n",
              "    <tr>\n",
              "      <th>2</th>\n",
              "      <td>abw</td>\n",
              "      <td>1970</td>\n",
              "      <td>0.0</td>\n",
              "      <td>59063</td>\n",
              "      <td>Aruba</td>\n",
              "    </tr>\n",
              "    <tr>\n",
              "      <th>3</th>\n",
              "      <td>abw</td>\n",
              "      <td>1975</td>\n",
              "      <td>0.0</td>\n",
              "      <td>60657</td>\n",
              "      <td>Aruba</td>\n",
              "    </tr>\n",
              "    <tr>\n",
              "      <th>4</th>\n",
              "      <td>abw</td>\n",
              "      <td>1976</td>\n",
              "      <td>0.0</td>\n",
              "      <td>60586</td>\n",
              "      <td>Aruba</td>\n",
              "    </tr>\n",
              "    <tr>\n",
              "      <th>...</th>\n",
              "      <td>...</td>\n",
              "      <td>...</td>\n",
              "      <td>...</td>\n",
              "      <td>...</td>\n",
              "      <td>...</td>\n",
              "    </tr>\n",
              "    <tr>\n",
              "      <th>9563</th>\n",
              "      <td>zwe</td>\n",
              "      <td>2015</td>\n",
              "      <td>12757410.0</td>\n",
              "      <td>13814629</td>\n",
              "      <td>Zimbabwe</td>\n",
              "    </tr>\n",
              "    <tr>\n",
              "      <th>9564</th>\n",
              "      <td>zwe</td>\n",
              "      <td>2016</td>\n",
              "      <td>12878926.0</td>\n",
              "      <td>14030331</td>\n",
              "      <td>Zimbabwe</td>\n",
              "    </tr>\n",
              "    <tr>\n",
              "      <th>9565</th>\n",
              "      <td>zwe</td>\n",
              "      <td>2017</td>\n",
              "      <td>14092104.0</td>\n",
              "      <td>14236595</td>\n",
              "      <td>Zimbabwe</td>\n",
              "    </tr>\n",
              "    <tr>\n",
              "      <th>9566</th>\n",
              "      <td>zwe</td>\n",
              "      <td>2018</td>\n",
              "      <td>12908992.0</td>\n",
              "      <td>14438802</td>\n",
              "      <td>Zimbabwe</td>\n",
              "    </tr>\n",
              "    <tr>\n",
              "      <th>9567</th>\n",
              "      <td>zwe</td>\n",
              "      <td>2019</td>\n",
              "      <td>13195902.0</td>\n",
              "      <td>14645468</td>\n",
              "      <td>Zimbabwe</td>\n",
              "    </tr>\n",
              "  </tbody>\n",
              "</table>\n",
              "<p>9568 rows × 5 columns</p>\n",
              "</div>\n",
              "      <button class=\"colab-df-convert\" onclick=\"convertToInteractive('df-0be1a93c-90b0-4219-bc86-e4b8d26089b8')\"\n",
              "              title=\"Convert this dataframe to an interactive table.\"\n",
              "              style=\"display:none;\">\n",
              "        \n",
              "  <svg xmlns=\"http://www.w3.org/2000/svg\" height=\"24px\"viewBox=\"0 0 24 24\"\n",
              "       width=\"24px\">\n",
              "    <path d=\"M0 0h24v24H0V0z\" fill=\"none\"/>\n",
              "    <path d=\"M18.56 5.44l.94 2.06.94-2.06 2.06-.94-2.06-.94-.94-2.06-.94 2.06-2.06.94zm-11 1L8.5 8.5l.94-2.06 2.06-.94-2.06-.94L8.5 2.5l-.94 2.06-2.06.94zm10 10l.94 2.06.94-2.06 2.06-.94-2.06-.94-.94-2.06-.94 2.06-2.06.94z\"/><path d=\"M17.41 7.96l-1.37-1.37c-.4-.4-.92-.59-1.43-.59-.52 0-1.04.2-1.43.59L10.3 9.45l-7.72 7.72c-.78.78-.78 2.05 0 2.83L4 21.41c.39.39.9.59 1.41.59.51 0 1.02-.2 1.41-.59l7.78-7.78 2.81-2.81c.8-.78.8-2.07 0-2.86zM5.41 20L4 18.59l7.72-7.72 1.47 1.35L5.41 20z\"/>\n",
              "  </svg>\n",
              "      </button>\n",
              "      \n",
              "  <style>\n",
              "    .colab-df-container {\n",
              "      display:flex;\n",
              "      flex-wrap:wrap;\n",
              "      gap: 12px;\n",
              "    }\n",
              "\n",
              "    .colab-df-convert {\n",
              "      background-color: #E8F0FE;\n",
              "      border: none;\n",
              "      border-radius: 50%;\n",
              "      cursor: pointer;\n",
              "      display: none;\n",
              "      fill: #1967D2;\n",
              "      height: 32px;\n",
              "      padding: 0 0 0 0;\n",
              "      width: 32px;\n",
              "    }\n",
              "\n",
              "    .colab-df-convert:hover {\n",
              "      background-color: #E2EBFA;\n",
              "      box-shadow: 0px 1px 2px rgba(60, 64, 67, 0.3), 0px 1px 3px 1px rgba(60, 64, 67, 0.15);\n",
              "      fill: #174EA6;\n",
              "    }\n",
              "\n",
              "    [theme=dark] .colab-df-convert {\n",
              "      background-color: #3B4455;\n",
              "      fill: #D2E3FC;\n",
              "    }\n",
              "\n",
              "    [theme=dark] .colab-df-convert:hover {\n",
              "      background-color: #434B5C;\n",
              "      box-shadow: 0px 1px 3px 1px rgba(0, 0, 0, 0.15);\n",
              "      filter: drop-shadow(0px 1px 2px rgba(0, 0, 0, 0.3));\n",
              "      fill: #FFFFFF;\n",
              "    }\n",
              "  </style>\n",
              "\n",
              "      <script>\n",
              "        const buttonEl =\n",
              "          document.querySelector('#df-0be1a93c-90b0-4219-bc86-e4b8d26089b8 button.colab-df-convert');\n",
              "        buttonEl.style.display =\n",
              "          google.colab.kernel.accessAllowed ? 'block' : 'none';\n",
              "\n",
              "        async function convertToInteractive(key) {\n",
              "          const element = document.querySelector('#df-0be1a93c-90b0-4219-bc86-e4b8d26089b8');\n",
              "          const dataTable =\n",
              "            await google.colab.kernel.invokeFunction('convertToInteractive',\n",
              "                                                     [key], {});\n",
              "          if (!dataTable) return;\n",
              "\n",
              "          const docLinkHtml = 'Like what you see? Visit the ' +\n",
              "            '<a target=\"_blank\" href=https://colab.research.google.com/notebooks/data_table.ipynb>data table notebook</a>'\n",
              "            + ' to learn more about interactive tables.';\n",
              "          element.innerHTML = '';\n",
              "          dataTable['output_type'] = 'display_data';\n",
              "          await google.colab.output.renderOutput(dataTable, element);\n",
              "          const docLink = document.createElement('div');\n",
              "          docLink.innerHTML = docLinkHtml;\n",
              "          element.appendChild(docLink);\n",
              "        }\n",
              "      </script>\n",
              "    </div>\n",
              "  </div>\n",
              "  "
            ]
          },
          "metadata": {},
          "execution_count": 53
        }
      ]
    },
    {
      "cell_type": "code",
      "source": [
        "df4 = df_test2.copy()"
      ],
      "metadata": {
        "id": "bL8IVGHIevVP"
      },
      "execution_count": null,
      "outputs": []
    },
    {
      "cell_type": "markdown",
      "source": [
        "##### **Q3. \b`df4`에서 `index==9500`에 해당하는 row의 모든 값을 (`geo`, `time`, `cell_phones_total`, `population`, `country`) 형태로 쓰세요. (단, 숫자형 데이터는 모두 정수형으로 씁니다.)** <br>\n",
        "> **ex)**\n",
        "> `index == 0` 인 경우에는 다음과 같이 표기합니다 **(abw, 1960, 0, 54211, Aruba)**"
      ],
      "metadata": {
        "id": "oXwt7WpSbxcF"
      }
    },
    {
      "cell_type": "code",
      "source": [
        "df4.iloc[9500]"
      ],
      "metadata": {
        "colab": {
          "base_uri": "https://localhost:8080/"
        },
        "id": "4tlERDGIe6aK",
        "outputId": "0a891bf9-5b25-4740-850a-089842ac48e5"
      },
      "execution_count": null,
      "outputs": [
        {
          "output_type": "execute_result",
          "data": {
            "text/plain": [
              "geo                       zmb\n",
              "time                     2000\n",
              "cell_phones_total     98853.0\n",
              "population           10415944\n",
              "country                Zambia\n",
              "Name: 9500, dtype: object"
            ]
          },
          "metadata": {},
          "execution_count": 55
        }
      ]
    },
    {
      "cell_type": "markdown",
      "source": [
        "**`이곳에 Q3에 대한 답을 작성하세요.`** (zmb, 1994, 0, 8869740, Zambia)\n"
      ],
      "metadata": {
        "id": "LFPFDYmykpCM"
      }
    },
    {
      "cell_type": "markdown",
      "source": [
        "### **1-3. \bFeature Engineering**"
      ],
      "metadata": {
        "id": "Vq7LLqpcECa5"
      }
    },
    {
      "cell_type": "markdown",
      "source": [
        "#### **1-3-a. 인구당 cell phone 수를 나타내는 데이터를 새로운 feature `PPP`에 저장하세요.**\n",
        "```\n",
        "(인구당 cell phone 수 (PPP)) = (cell phone 총 개수) / (인구)\n",
        "```"
      ],
      "metadata": {
        "id": "NAzl4SBlEL5a"
      }
    },
    {
      "cell_type": "code",
      "source": [
        "# 이곳에 코드를 작성하세요.'\n",
        "df4['PPP'] = df4.cell_phones_total / df4.population"
      ],
      "metadata": {
        "id": "VzqvhHWCkvZg"
      },
      "execution_count": null,
      "outputs": []
    },
    {
      "cell_type": "markdown",
      "source": [
        "#### **1-3-b. 나라별 평균 PPP를 구하고, 평균 PPP 값이 높은 순서대로 데이터를 정렬하세요.**\n",
        "- 결과는 데이터프레임 형태로 반환합니다. \n",
        "- 데이터 정렬 후 index를 재설정하세요. \n",
        "\n",
        "|country|PPP|\n",
        "|:-:|:-:|\n",
        "|\bSint Maarten (Dutch part)|1.899506|\n",
        "|Montenegro|1.574349|\n",
        "|Curaçao|1.259227|\n",
        "|Serbia|0.951586|\n",
        "|Israel|0.840197|\n",
        "|Macao, China|0.818130|\n",
        "|...|...|"
      ],
      "metadata": {
        "id": "AB5ZqJ2S9fJt"
      }
    },
    {
      "cell_type": "code",
      "source": [
        "# 이곳에 코드를 작성하세요.\n",
        "df5 = df4[['country', 'PPP']]"
      ],
      "metadata": {
        "id": "Pudss0oKkyPA"
      },
      "execution_count": null,
      "outputs": []
    },
    {
      "cell_type": "code",
      "source": [
        "df_mean = df5.groupby('country').mean()"
      ],
      "metadata": {
        "id": "kTxloiNfggsc"
      },
      "execution_count": null,
      "outputs": []
    },
    {
      "cell_type": "code",
      "source": [
        "df_mean2 = df_mean.sort_values('PPP', ascending = False).reset_index()"
      ],
      "metadata": {
        "id": "1nYC6YLPhlGu"
      },
      "execution_count": null,
      "outputs": []
    },
    {
      "cell_type": "code",
      "source": [
        "df_mean2"
      ],
      "metadata": {
        "colab": {
          "base_uri": "https://localhost:8080/",
          "height": 424
        },
        "id": "-maMHMuPiGuz",
        "outputId": "9172ba99-038a-435b-b91e-1e33b84239d6"
      },
      "execution_count": null,
      "outputs": [
        {
          "output_type": "execute_result",
          "data": {
            "text/plain": [
              "                       country       PPP\n",
              "0    Sint Maarten (Dutch part)  1.899506\n",
              "1                   Montenegro  1.574349\n",
              "2                      Curaçao  1.259227\n",
              "3                       Serbia  0.951586\n",
              "4                       Israel  0.840197\n",
              "..                         ...       ...\n",
              "208   Northern Mariana Islands  0.048646\n",
              "209           Marshall Islands  0.024952\n",
              "210                    Eritrea  0.024113\n",
              "211                North Korea  0.016506\n",
              "212             American Samoa  0.012152\n",
              "\n",
              "[213 rows x 2 columns]"
            ],
            "text/html": [
              "\n",
              "  <div id=\"df-470cccda-7537-4dbe-b3c1-cf80ced61b3c\">\n",
              "    <div class=\"colab-df-container\">\n",
              "      <div>\n",
              "<style scoped>\n",
              "    .dataframe tbody tr th:only-of-type {\n",
              "        vertical-align: middle;\n",
              "    }\n",
              "\n",
              "    .dataframe tbody tr th {\n",
              "        vertical-align: top;\n",
              "    }\n",
              "\n",
              "    .dataframe thead th {\n",
              "        text-align: right;\n",
              "    }\n",
              "</style>\n",
              "<table border=\"1\" class=\"dataframe\">\n",
              "  <thead>\n",
              "    <tr style=\"text-align: right;\">\n",
              "      <th></th>\n",
              "      <th>country</th>\n",
              "      <th>PPP</th>\n",
              "    </tr>\n",
              "  </thead>\n",
              "  <tbody>\n",
              "    <tr>\n",
              "      <th>0</th>\n",
              "      <td>Sint Maarten (Dutch part)</td>\n",
              "      <td>1.899506</td>\n",
              "    </tr>\n",
              "    <tr>\n",
              "      <th>1</th>\n",
              "      <td>Montenegro</td>\n",
              "      <td>1.574349</td>\n",
              "    </tr>\n",
              "    <tr>\n",
              "      <th>2</th>\n",
              "      <td>Curaçao</td>\n",
              "      <td>1.259227</td>\n",
              "    </tr>\n",
              "    <tr>\n",
              "      <th>3</th>\n",
              "      <td>Serbia</td>\n",
              "      <td>0.951586</td>\n",
              "    </tr>\n",
              "    <tr>\n",
              "      <th>4</th>\n",
              "      <td>Israel</td>\n",
              "      <td>0.840197</td>\n",
              "    </tr>\n",
              "    <tr>\n",
              "      <th>...</th>\n",
              "      <td>...</td>\n",
              "      <td>...</td>\n",
              "    </tr>\n",
              "    <tr>\n",
              "      <th>208</th>\n",
              "      <td>Northern Mariana Islands</td>\n",
              "      <td>0.048646</td>\n",
              "    </tr>\n",
              "    <tr>\n",
              "      <th>209</th>\n",
              "      <td>Marshall Islands</td>\n",
              "      <td>0.024952</td>\n",
              "    </tr>\n",
              "    <tr>\n",
              "      <th>210</th>\n",
              "      <td>Eritrea</td>\n",
              "      <td>0.024113</td>\n",
              "    </tr>\n",
              "    <tr>\n",
              "      <th>211</th>\n",
              "      <td>North Korea</td>\n",
              "      <td>0.016506</td>\n",
              "    </tr>\n",
              "    <tr>\n",
              "      <th>212</th>\n",
              "      <td>American Samoa</td>\n",
              "      <td>0.012152</td>\n",
              "    </tr>\n",
              "  </tbody>\n",
              "</table>\n",
              "<p>213 rows × 2 columns</p>\n",
              "</div>\n",
              "      <button class=\"colab-df-convert\" onclick=\"convertToInteractive('df-470cccda-7537-4dbe-b3c1-cf80ced61b3c')\"\n",
              "              title=\"Convert this dataframe to an interactive table.\"\n",
              "              style=\"display:none;\">\n",
              "        \n",
              "  <svg xmlns=\"http://www.w3.org/2000/svg\" height=\"24px\"viewBox=\"0 0 24 24\"\n",
              "       width=\"24px\">\n",
              "    <path d=\"M0 0h24v24H0V0z\" fill=\"none\"/>\n",
              "    <path d=\"M18.56 5.44l.94 2.06.94-2.06 2.06-.94-2.06-.94-.94-2.06-.94 2.06-2.06.94zm-11 1L8.5 8.5l.94-2.06 2.06-.94-2.06-.94L8.5 2.5l-.94 2.06-2.06.94zm10 10l.94 2.06.94-2.06 2.06-.94-2.06-.94-.94-2.06-.94 2.06-2.06.94z\"/><path d=\"M17.41 7.96l-1.37-1.37c-.4-.4-.92-.59-1.43-.59-.52 0-1.04.2-1.43.59L10.3 9.45l-7.72 7.72c-.78.78-.78 2.05 0 2.83L4 21.41c.39.39.9.59 1.41.59.51 0 1.02-.2 1.41-.59l7.78-7.78 2.81-2.81c.8-.78.8-2.07 0-2.86zM5.41 20L4 18.59l7.72-7.72 1.47 1.35L5.41 20z\"/>\n",
              "  </svg>\n",
              "      </button>\n",
              "      \n",
              "  <style>\n",
              "    .colab-df-container {\n",
              "      display:flex;\n",
              "      flex-wrap:wrap;\n",
              "      gap: 12px;\n",
              "    }\n",
              "\n",
              "    .colab-df-convert {\n",
              "      background-color: #E8F0FE;\n",
              "      border: none;\n",
              "      border-radius: 50%;\n",
              "      cursor: pointer;\n",
              "      display: none;\n",
              "      fill: #1967D2;\n",
              "      height: 32px;\n",
              "      padding: 0 0 0 0;\n",
              "      width: 32px;\n",
              "    }\n",
              "\n",
              "    .colab-df-convert:hover {\n",
              "      background-color: #E2EBFA;\n",
              "      box-shadow: 0px 1px 2px rgba(60, 64, 67, 0.3), 0px 1px 3px 1px rgba(60, 64, 67, 0.15);\n",
              "      fill: #174EA6;\n",
              "    }\n",
              "\n",
              "    [theme=dark] .colab-df-convert {\n",
              "      background-color: #3B4455;\n",
              "      fill: #D2E3FC;\n",
              "    }\n",
              "\n",
              "    [theme=dark] .colab-df-convert:hover {\n",
              "      background-color: #434B5C;\n",
              "      box-shadow: 0px 1px 3px 1px rgba(0, 0, 0, 0.15);\n",
              "      filter: drop-shadow(0px 1px 2px rgba(0, 0, 0, 0.3));\n",
              "      fill: #FFFFFF;\n",
              "    }\n",
              "  </style>\n",
              "\n",
              "      <script>\n",
              "        const buttonEl =\n",
              "          document.querySelector('#df-470cccda-7537-4dbe-b3c1-cf80ced61b3c button.colab-df-convert');\n",
              "        buttonEl.style.display =\n",
              "          google.colab.kernel.accessAllowed ? 'block' : 'none';\n",
              "\n",
              "        async function convertToInteractive(key) {\n",
              "          const element = document.querySelector('#df-470cccda-7537-4dbe-b3c1-cf80ced61b3c');\n",
              "          const dataTable =\n",
              "            await google.colab.kernel.invokeFunction('convertToInteractive',\n",
              "                                                     [key], {});\n",
              "          if (!dataTable) return;\n",
              "\n",
              "          const docLinkHtml = 'Like what you see? Visit the ' +\n",
              "            '<a target=\"_blank\" href=https://colab.research.google.com/notebooks/data_table.ipynb>data table notebook</a>'\n",
              "            + ' to learn more about interactive tables.';\n",
              "          element.innerHTML = '';\n",
              "          dataTable['output_type'] = 'display_data';\n",
              "          await google.colab.output.renderOutput(dataTable, element);\n",
              "          const docLink = document.createElement('div');\n",
              "          docLink.innerHTML = docLinkHtml;\n",
              "          element.appendChild(docLink);\n",
              "        }\n",
              "      </script>\n",
              "    </div>\n",
              "  </div>\n",
              "  "
            ]
          },
          "metadata": {},
          "execution_count": 82
        }
      ]
    },
    {
      "cell_type": "code",
      "source": [
        "df_mean2.iloc[210]"
      ],
      "metadata": {
        "colab": {
          "base_uri": "https://localhost:8080/"
        },
        "id": "5ql365WZicPM",
        "outputId": "07e453e2-8c64-488f-e522-6ece16f63a42"
      },
      "execution_count": null,
      "outputs": [
        {
          "output_type": "execute_result",
          "data": {
            "text/plain": [
              "country     Eritrea\n",
              "PPP        0.024113\n",
              "Name: 210, dtype: object"
            ]
          },
          "metadata": {},
          "execution_count": 83
        }
      ]
    },
    {
      "cell_type": "markdown",
      "source": [
        "##### **Q4. 위 과정을 모두 수행한 데이터프레임에서 `index==210`인 나라는 어디인가요?**\n",
        "\n",
        "> **ex)** `index == 0` 인 나라는 **Sint Maarten (Dutch part)** 입니다."
      ],
      "metadata": {
        "id": "aV3duiXvcGYq"
      }
    },
    {
      "cell_type": "markdown",
      "source": [
        "**`이곳에 Q4에 대한 답을 작성하세요.`** Eritrea"
      ],
      "metadata": {
        "id": "rXfXYphJk0Yj"
      }
    },
    {
      "cell_type": "markdown",
      "source": [
        "## **Part 2. Data Visualization**\n",
        "\n",
        "이번 파트에서는 **FiveThirtyEight's article, [Every Guest Jon Stewart Ever Had On ‘The Daily Show’](https://fivethirtyeight.com/features/every-guest-jon-stewart-ever-had-on-the-daily-show/)** 의 데이터를 다루게 됩니다.\n",
        "\n",
        "아래 cell 을 실행하면 자동으로 data가 load 되며, `data_for_graph`라는 이름의 dataframe을 얻게 됩니다. \n",
        "\n",
        "(원하신다면 추가 시각화를 하셔도 상관없지만, 이번 파트에서의 요구사항은 아닙니다.)\n"
      ],
      "metadata": {
        "id": "YfaKbcojBp65"
      }
    },
    {
      "cell_type": "code",
      "source": [
        "%matplotlib inline\n",
        "import matplotlib.pyplot as plt\n",
        "import numpy as np\n",
        "import pandas as pd\n",
        "import seaborn as sns\n",
        "import datetime\n",
        "\n",
        "cable_news_url = 'https://raw.githubusercontent.com/fivethirtyeight/data/master/media-mentions-2020/cable_weekly.csv'\n",
        "online_news_url = 'https://raw.githubusercontent.com/fivethirtyeight/data/master/media-mentions-2020/online_weekly.csv'\n",
        "\n",
        "cable = pd.read_csv(cable_news_url)\n",
        "online = pd.read_csv(online_news_url)\n",
        "\n",
        "merged = pd.merge(cable[['date', 'name', 'pct_of_all_candidate_clips']], online[['date', 'name', 'pct_of_all_candidate_stories']])\n",
        "merged['date'] = pd.to_datetime(merged['date'], infer_datetime_format=True)\n",
        "merged = merged.set_index('date')\n",
        "\n",
        "unique_dates = list(set(merged.index.to_list()))\n",
        "\n",
        "import datetime\n",
        "\n",
        "joe_biden_cable_multiple = []\n",
        "joe_biden_online_multiple = []\n",
        "\n",
        "for date in unique_dates:\n",
        "  #that_day = merged.loc[datetime.date(year=date.year, month=date.month, day=date.day)]\n",
        "  str_date = str(date.year)+\"-\"+str(date.month) + \"-\" + str(date.day)\n",
        "  that_day = merged.loc[str_date]\n",
        "\n",
        "  joe_biden_cable_that_day = that_day[that_day['name']==\"Joe Biden\"]['pct_of_all_candidate_clips']\n",
        "  not_joe_biden_cable_max = that_day[that_day['name']!=\"Joe Biden\"]['pct_of_all_candidate_clips'].max()\n",
        "  joe_biden_cable_multiple_of_max = joe_biden_cable_that_day / not_joe_biden_cable_max\n",
        "\n",
        "  joe_biden_online_that_day = that_day[that_day['name']==\"Joe Biden\"]['pct_of_all_candidate_stories']\n",
        "  not_joe_biden_online_max = that_day[that_day['name']!=\"Joe Biden\"]['pct_of_all_candidate_stories'].max()\n",
        "  joe_biden_online_multiple_of_max = joe_biden_online_that_day / not_joe_biden_online_max\n",
        "\n",
        "\n",
        "  joe_biden_cable_multiple.append(joe_biden_cable_multiple_of_max.values[0])\n",
        "  joe_biden_online_multiple.append(joe_biden_online_multiple_of_max.values[0])\n",
        "\n",
        "df = pd.DataFrame({'date': unique_dates, 'biden_cable_multiple':joe_biden_cable_multiple, 'biden_online_multiple': joe_biden_online_multiple})\n",
        "\n",
        "df['Month'] = df['date'].dt.month \n",
        "df = df.set_index('date')\n",
        "df = df.sort_index()\n",
        "# df.head()\n",
        "\n",
        "data_for_graph = df.loc[datetime.date(2019, 1, 1):]\n",
        "print(data_for_graph.shape)\n",
        "data_for_graph.head(10)"
      ],
      "metadata": {
        "colab": {
          "base_uri": "https://localhost:8080/",
          "height": 412
        },
        "id": "JWHhkhweCI21",
        "outputId": "53b7045d-ebaf-438c-cd75-ae79772e4e52"
      },
      "execution_count": null,
      "outputs": [
        {
          "output_type": "stream",
          "name": "stdout",
          "text": [
            "(42, 3)\n"
          ]
        },
        {
          "output_type": "execute_result",
          "data": {
            "text/plain": [
              "            biden_cable_multiple  biden_online_multiple  Month\n",
              "date                                                          \n",
              "2019-01-06              0.431604               0.492401      1\n",
              "2019-01-13              0.990476               0.360000      1\n",
              "2019-01-20              0.423497               0.440758      1\n",
              "2019-01-27              0.204420               0.274752      1\n",
              "2019-02-03              0.276596               0.334471      2\n",
              "2019-02-10              0.375824               0.335766      2\n",
              "2019-02-17              0.305101               0.331754      2\n",
              "2019-02-24              0.426205               0.316879      2\n",
              "2019-03-03              0.844530               0.425787      3\n",
              "2019-03-10              0.691954               0.652755      3"
            ],
            "text/html": [
              "\n",
              "  <div id=\"df-d814cfb5-0d32-4afb-ab89-0a62241b9a42\">\n",
              "    <div class=\"colab-df-container\">\n",
              "      <div>\n",
              "<style scoped>\n",
              "    .dataframe tbody tr th:only-of-type {\n",
              "        vertical-align: middle;\n",
              "    }\n",
              "\n",
              "    .dataframe tbody tr th {\n",
              "        vertical-align: top;\n",
              "    }\n",
              "\n",
              "    .dataframe thead th {\n",
              "        text-align: right;\n",
              "    }\n",
              "</style>\n",
              "<table border=\"1\" class=\"dataframe\">\n",
              "  <thead>\n",
              "    <tr style=\"text-align: right;\">\n",
              "      <th></th>\n",
              "      <th>biden_cable_multiple</th>\n",
              "      <th>biden_online_multiple</th>\n",
              "      <th>Month</th>\n",
              "    </tr>\n",
              "    <tr>\n",
              "      <th>date</th>\n",
              "      <th></th>\n",
              "      <th></th>\n",
              "      <th></th>\n",
              "    </tr>\n",
              "  </thead>\n",
              "  <tbody>\n",
              "    <tr>\n",
              "      <th>2019-01-06</th>\n",
              "      <td>0.431604</td>\n",
              "      <td>0.492401</td>\n",
              "      <td>1</td>\n",
              "    </tr>\n",
              "    <tr>\n",
              "      <th>2019-01-13</th>\n",
              "      <td>0.990476</td>\n",
              "      <td>0.360000</td>\n",
              "      <td>1</td>\n",
              "    </tr>\n",
              "    <tr>\n",
              "      <th>2019-01-20</th>\n",
              "      <td>0.423497</td>\n",
              "      <td>0.440758</td>\n",
              "      <td>1</td>\n",
              "    </tr>\n",
              "    <tr>\n",
              "      <th>2019-01-27</th>\n",
              "      <td>0.204420</td>\n",
              "      <td>0.274752</td>\n",
              "      <td>1</td>\n",
              "    </tr>\n",
              "    <tr>\n",
              "      <th>2019-02-03</th>\n",
              "      <td>0.276596</td>\n",
              "      <td>0.334471</td>\n",
              "      <td>2</td>\n",
              "    </tr>\n",
              "    <tr>\n",
              "      <th>2019-02-10</th>\n",
              "      <td>0.375824</td>\n",
              "      <td>0.335766</td>\n",
              "      <td>2</td>\n",
              "    </tr>\n",
              "    <tr>\n",
              "      <th>2019-02-17</th>\n",
              "      <td>0.305101</td>\n",
              "      <td>0.331754</td>\n",
              "      <td>2</td>\n",
              "    </tr>\n",
              "    <tr>\n",
              "      <th>2019-02-24</th>\n",
              "      <td>0.426205</td>\n",
              "      <td>0.316879</td>\n",
              "      <td>2</td>\n",
              "    </tr>\n",
              "    <tr>\n",
              "      <th>2019-03-03</th>\n",
              "      <td>0.844530</td>\n",
              "      <td>0.425787</td>\n",
              "      <td>3</td>\n",
              "    </tr>\n",
              "    <tr>\n",
              "      <th>2019-03-10</th>\n",
              "      <td>0.691954</td>\n",
              "      <td>0.652755</td>\n",
              "      <td>3</td>\n",
              "    </tr>\n",
              "  </tbody>\n",
              "</table>\n",
              "</div>\n",
              "      <button class=\"colab-df-convert\" onclick=\"convertToInteractive('df-d814cfb5-0d32-4afb-ab89-0a62241b9a42')\"\n",
              "              title=\"Convert this dataframe to an interactive table.\"\n",
              "              style=\"display:none;\">\n",
              "        \n",
              "  <svg xmlns=\"http://www.w3.org/2000/svg\" height=\"24px\"viewBox=\"0 0 24 24\"\n",
              "       width=\"24px\">\n",
              "    <path d=\"M0 0h24v24H0V0z\" fill=\"none\"/>\n",
              "    <path d=\"M18.56 5.44l.94 2.06.94-2.06 2.06-.94-2.06-.94-.94-2.06-.94 2.06-2.06.94zm-11 1L8.5 8.5l.94-2.06 2.06-.94-2.06-.94L8.5 2.5l-.94 2.06-2.06.94zm10 10l.94 2.06.94-2.06 2.06-.94-2.06-.94-.94-2.06-.94 2.06-2.06.94z\"/><path d=\"M17.41 7.96l-1.37-1.37c-.4-.4-.92-.59-1.43-.59-.52 0-1.04.2-1.43.59L10.3 9.45l-7.72 7.72c-.78.78-.78 2.05 0 2.83L4 21.41c.39.39.9.59 1.41.59.51 0 1.02-.2 1.41-.59l7.78-7.78 2.81-2.81c.8-.78.8-2.07 0-2.86zM5.41 20L4 18.59l7.72-7.72 1.47 1.35L5.41 20z\"/>\n",
              "  </svg>\n",
              "      </button>\n",
              "      \n",
              "  <style>\n",
              "    .colab-df-container {\n",
              "      display:flex;\n",
              "      flex-wrap:wrap;\n",
              "      gap: 12px;\n",
              "    }\n",
              "\n",
              "    .colab-df-convert {\n",
              "      background-color: #E8F0FE;\n",
              "      border: none;\n",
              "      border-radius: 50%;\n",
              "      cursor: pointer;\n",
              "      display: none;\n",
              "      fill: #1967D2;\n",
              "      height: 32px;\n",
              "      padding: 0 0 0 0;\n",
              "      width: 32px;\n",
              "    }\n",
              "\n",
              "    .colab-df-convert:hover {\n",
              "      background-color: #E2EBFA;\n",
              "      box-shadow: 0px 1px 2px rgba(60, 64, 67, 0.3), 0px 1px 3px 1px rgba(60, 64, 67, 0.15);\n",
              "      fill: #174EA6;\n",
              "    }\n",
              "\n",
              "    [theme=dark] .colab-df-convert {\n",
              "      background-color: #3B4455;\n",
              "      fill: #D2E3FC;\n",
              "    }\n",
              "\n",
              "    [theme=dark] .colab-df-convert:hover {\n",
              "      background-color: #434B5C;\n",
              "      box-shadow: 0px 1px 3px 1px rgba(0, 0, 0, 0.15);\n",
              "      filter: drop-shadow(0px 1px 2px rgba(0, 0, 0, 0.3));\n",
              "      fill: #FFFFFF;\n",
              "    }\n",
              "  </style>\n",
              "\n",
              "      <script>\n",
              "        const buttonEl =\n",
              "          document.querySelector('#df-d814cfb5-0d32-4afb-ab89-0a62241b9a42 button.colab-df-convert');\n",
              "        buttonEl.style.display =\n",
              "          google.colab.kernel.accessAllowed ? 'block' : 'none';\n",
              "\n",
              "        async function convertToInteractive(key) {\n",
              "          const element = document.querySelector('#df-d814cfb5-0d32-4afb-ab89-0a62241b9a42');\n",
              "          const dataTable =\n",
              "            await google.colab.kernel.invokeFunction('convertToInteractive',\n",
              "                                                     [key], {});\n",
              "          if (!dataTable) return;\n",
              "\n",
              "          const docLinkHtml = 'Like what you see? Visit the ' +\n",
              "            '<a target=\"_blank\" href=https://colab.research.google.com/notebooks/data_table.ipynb>data table notebook</a>'\n",
              "            + ' to learn more about interactive tables.';\n",
              "          element.innerHTML = '';\n",
              "          dataTable['output_type'] = 'display_data';\n",
              "          await google.colab.output.renderOutput(dataTable, element);\n",
              "          const docLink = document.createElement('div');\n",
              "          docLink.innerHTML = docLinkHtml;\n",
              "          element.appendChild(docLink);\n",
              "        }\n",
              "      </script>\n",
              "    </div>\n",
              "  </div>\n",
              "  "
            ]
          },
          "metadata": {},
          "execution_count": 84
        }
      ]
    },
    {
      "cell_type": "markdown",
      "source": [
        "#### **2-1. `data_for_graph`에서 각 column의 <u>월별 평균 값</u>을 Line graph로 그리세요.**\n",
        "> 아래의 조건을 모두 만족해야 합니다.\n",
        "\n",
        "- `Cable News` vs `Online News` 2개의 line graph가 보여야 합니다. \n",
        "- 각 라인은 다른 색을 가져야 합니다. \n",
        "- 각 라인이 `Cable News`와 `Online News` 중 무엇을 나타내는지 범례를 표시합니다.\n",
        "- 타이틀을 다음 내용으로 만드세요. _\"Biden's Ukraine-related media bump is fading\"_\n"
      ],
      "metadata": {
        "id": "micMU5anCQy-"
      }
    },
    {
      "cell_type": "code",
      "source": [
        "import matplotlib.pyplot as plt"
      ],
      "metadata": {
        "id": "S9p5HIdokkUo"
      },
      "execution_count": null,
      "outputs": []
    },
    {
      "cell_type": "code",
      "source": [
        "# 이곳에 코드를 작성하세요.\n",
        "month_mean = data_for_graph.groupby('Month').mean()"
      ],
      "metadata": {
        "id": "xk1u0rNek9uI"
      },
      "execution_count": null,
      "outputs": []
    },
    {
      "cell_type": "code",
      "source": [
        "month_mean.reset_index(inplace = True)"
      ],
      "metadata": {
        "id": "EfZFjCh5jkQP"
      },
      "execution_count": null,
      "outputs": []
    },
    {
      "cell_type": "code",
      "source": [
        "month_mean"
      ],
      "metadata": {
        "colab": {
          "base_uri": "https://localhost:8080/",
          "height": 363
        },
        "id": "cojyzmCCjs1B",
        "outputId": "8a44891d-079e-4f63-da76-32daee3a0244"
      },
      "execution_count": null,
      "outputs": [
        {
          "output_type": "execute_result",
          "data": {
            "text/plain": [
              "   Month  biden_cable_multiple  biden_online_multiple\n",
              "0      1              0.512499               0.391978\n",
              "1      2              0.345931               0.329717\n",
              "2      3              1.736847               0.855717\n",
              "3      4              1.997199               0.814604\n",
              "4      5              3.054963               1.259382\n",
              "5      6              2.815542               1.280751\n",
              "6      7              1.906604               1.051410\n",
              "7      8              1.849255               1.007523\n",
              "8      9              3.208285               2.248763\n",
              "9     10              2.220976               1.834932"
            ],
            "text/html": [
              "\n",
              "  <div id=\"df-85daf213-d2b3-4aab-8192-291c07d7e257\">\n",
              "    <div class=\"colab-df-container\">\n",
              "      <div>\n",
              "<style scoped>\n",
              "    .dataframe tbody tr th:only-of-type {\n",
              "        vertical-align: middle;\n",
              "    }\n",
              "\n",
              "    .dataframe tbody tr th {\n",
              "        vertical-align: top;\n",
              "    }\n",
              "\n",
              "    .dataframe thead th {\n",
              "        text-align: right;\n",
              "    }\n",
              "</style>\n",
              "<table border=\"1\" class=\"dataframe\">\n",
              "  <thead>\n",
              "    <tr style=\"text-align: right;\">\n",
              "      <th></th>\n",
              "      <th>Month</th>\n",
              "      <th>biden_cable_multiple</th>\n",
              "      <th>biden_online_multiple</th>\n",
              "    </tr>\n",
              "  </thead>\n",
              "  <tbody>\n",
              "    <tr>\n",
              "      <th>0</th>\n",
              "      <td>1</td>\n",
              "      <td>0.512499</td>\n",
              "      <td>0.391978</td>\n",
              "    </tr>\n",
              "    <tr>\n",
              "      <th>1</th>\n",
              "      <td>2</td>\n",
              "      <td>0.345931</td>\n",
              "      <td>0.329717</td>\n",
              "    </tr>\n",
              "    <tr>\n",
              "      <th>2</th>\n",
              "      <td>3</td>\n",
              "      <td>1.736847</td>\n",
              "      <td>0.855717</td>\n",
              "    </tr>\n",
              "    <tr>\n",
              "      <th>3</th>\n",
              "      <td>4</td>\n",
              "      <td>1.997199</td>\n",
              "      <td>0.814604</td>\n",
              "    </tr>\n",
              "    <tr>\n",
              "      <th>4</th>\n",
              "      <td>5</td>\n",
              "      <td>3.054963</td>\n",
              "      <td>1.259382</td>\n",
              "    </tr>\n",
              "    <tr>\n",
              "      <th>5</th>\n",
              "      <td>6</td>\n",
              "      <td>2.815542</td>\n",
              "      <td>1.280751</td>\n",
              "    </tr>\n",
              "    <tr>\n",
              "      <th>6</th>\n",
              "      <td>7</td>\n",
              "      <td>1.906604</td>\n",
              "      <td>1.051410</td>\n",
              "    </tr>\n",
              "    <tr>\n",
              "      <th>7</th>\n",
              "      <td>8</td>\n",
              "      <td>1.849255</td>\n",
              "      <td>1.007523</td>\n",
              "    </tr>\n",
              "    <tr>\n",
              "      <th>8</th>\n",
              "      <td>9</td>\n",
              "      <td>3.208285</td>\n",
              "      <td>2.248763</td>\n",
              "    </tr>\n",
              "    <tr>\n",
              "      <th>9</th>\n",
              "      <td>10</td>\n",
              "      <td>2.220976</td>\n",
              "      <td>1.834932</td>\n",
              "    </tr>\n",
              "  </tbody>\n",
              "</table>\n",
              "</div>\n",
              "      <button class=\"colab-df-convert\" onclick=\"convertToInteractive('df-85daf213-d2b3-4aab-8192-291c07d7e257')\"\n",
              "              title=\"Convert this dataframe to an interactive table.\"\n",
              "              style=\"display:none;\">\n",
              "        \n",
              "  <svg xmlns=\"http://www.w3.org/2000/svg\" height=\"24px\"viewBox=\"0 0 24 24\"\n",
              "       width=\"24px\">\n",
              "    <path d=\"M0 0h24v24H0V0z\" fill=\"none\"/>\n",
              "    <path d=\"M18.56 5.44l.94 2.06.94-2.06 2.06-.94-2.06-.94-.94-2.06-.94 2.06-2.06.94zm-11 1L8.5 8.5l.94-2.06 2.06-.94-2.06-.94L8.5 2.5l-.94 2.06-2.06.94zm10 10l.94 2.06.94-2.06 2.06-.94-2.06-.94-.94-2.06-.94 2.06-2.06.94z\"/><path d=\"M17.41 7.96l-1.37-1.37c-.4-.4-.92-.59-1.43-.59-.52 0-1.04.2-1.43.59L10.3 9.45l-7.72 7.72c-.78.78-.78 2.05 0 2.83L4 21.41c.39.39.9.59 1.41.59.51 0 1.02-.2 1.41-.59l7.78-7.78 2.81-2.81c.8-.78.8-2.07 0-2.86zM5.41 20L4 18.59l7.72-7.72 1.47 1.35L5.41 20z\"/>\n",
              "  </svg>\n",
              "      </button>\n",
              "      \n",
              "  <style>\n",
              "    .colab-df-container {\n",
              "      display:flex;\n",
              "      flex-wrap:wrap;\n",
              "      gap: 12px;\n",
              "    }\n",
              "\n",
              "    .colab-df-convert {\n",
              "      background-color: #E8F0FE;\n",
              "      border: none;\n",
              "      border-radius: 50%;\n",
              "      cursor: pointer;\n",
              "      display: none;\n",
              "      fill: #1967D2;\n",
              "      height: 32px;\n",
              "      padding: 0 0 0 0;\n",
              "      width: 32px;\n",
              "    }\n",
              "\n",
              "    .colab-df-convert:hover {\n",
              "      background-color: #E2EBFA;\n",
              "      box-shadow: 0px 1px 2px rgba(60, 64, 67, 0.3), 0px 1px 3px 1px rgba(60, 64, 67, 0.15);\n",
              "      fill: #174EA6;\n",
              "    }\n",
              "\n",
              "    [theme=dark] .colab-df-convert {\n",
              "      background-color: #3B4455;\n",
              "      fill: #D2E3FC;\n",
              "    }\n",
              "\n",
              "    [theme=dark] .colab-df-convert:hover {\n",
              "      background-color: #434B5C;\n",
              "      box-shadow: 0px 1px 3px 1px rgba(0, 0, 0, 0.15);\n",
              "      filter: drop-shadow(0px 1px 2px rgba(0, 0, 0, 0.3));\n",
              "      fill: #FFFFFF;\n",
              "    }\n",
              "  </style>\n",
              "\n",
              "      <script>\n",
              "        const buttonEl =\n",
              "          document.querySelector('#df-85daf213-d2b3-4aab-8192-291c07d7e257 button.colab-df-convert');\n",
              "        buttonEl.style.display =\n",
              "          google.colab.kernel.accessAllowed ? 'block' : 'none';\n",
              "\n",
              "        async function convertToInteractive(key) {\n",
              "          const element = document.querySelector('#df-85daf213-d2b3-4aab-8192-291c07d7e257');\n",
              "          const dataTable =\n",
              "            await google.colab.kernel.invokeFunction('convertToInteractive',\n",
              "                                                     [key], {});\n",
              "          if (!dataTable) return;\n",
              "\n",
              "          const docLinkHtml = 'Like what you see? Visit the ' +\n",
              "            '<a target=\"_blank\" href=https://colab.research.google.com/notebooks/data_table.ipynb>data table notebook</a>'\n",
              "            + ' to learn more about interactive tables.';\n",
              "          element.innerHTML = '';\n",
              "          dataTable['output_type'] = 'display_data';\n",
              "          await google.colab.output.renderOutput(dataTable, element);\n",
              "          const docLink = document.createElement('div');\n",
              "          docLink.innerHTML = docLinkHtml;\n",
              "          element.appendChild(docLink);\n",
              "        }\n",
              "      </script>\n",
              "    </div>\n",
              "  </div>\n",
              "  "
            ]
          },
          "metadata": {},
          "execution_count": 93
        }
      ]
    },
    {
      "cell_type": "code",
      "source": [
        "sns.lineplot(x = month_mean.Month, y = month_mean.biden_cable_multiple, label = 'Cable', color = 'blue')\n",
        "sns.lineplot(x = month_mean.Month, y = month_mean.biden_online_multiple, label = 'Online', color = 'red')\n",
        "plt.title(\"Biden's Ukraine-related media bump is fading\")"
      ],
      "metadata": {
        "id": "aGqUzqCEMDMn",
        "colab": {
          "base_uri": "https://localhost:8080/",
          "height": 313
        },
        "outputId": "2f5c0494-132d-4160-a9dd-ced81028953f"
      },
      "execution_count": null,
      "outputs": [
        {
          "output_type": "execute_result",
          "data": {
            "text/plain": [
              "Text(0.5, 1.0, \"Biden's Ukraine-related media bump is fading\")"
            ]
          },
          "metadata": {},
          "execution_count": 97
        },
        {
          "output_type": "display_data",
          "data": {
            "text/plain": [
              "<Figure size 432x288 with 1 Axes>"
            ],
            "image/png": "[encoded data removed]"
          },
          "metadata": {
            "needs_background": "light"
          }
        }
      ]
    },
    {
      "cell_type": "markdown",
      "source": [
        "##### **Q5. `Cable News`와 `Online News` 중 6월~8월 사이에 <u>월별 평균 값</u>이 더 높은\u001d것은 무엇인가요?**"
      ],
      "metadata": {
        "id": "DB-gnoX5cMJs"
      }
    },
    {
      "cell_type": "markdown",
      "source": [
        "**`이곳에 Q5에 대한 답을 작성하세요.`** Cable News"
      ],
      "metadata": {
        "id": "knCVBPllk_my"
      }
    },
    {
      "cell_type": "markdown",
      "source": [
        "## **Part 3. 도전 과제**\n",
        "위에서 요구된 사항들을 모두 정확하게 만족하였으며, 아래 내용 또한 만족하는 경우 3점을 얻을 수 있습니다.  \n",
        "\n",
        "아래 요구사항은 **optional** 임을 다시 한 번 강조합니다. (필수 요구사항이 아닙니다.)"
      ],
      "metadata": {
        "id": "YuaYXvtdC4TY"
      }
    },
    {
      "cell_type": "markdown",
      "source": [
        "### **3-1. Filtering**"
      ],
      "metadata": {
        "id": "ohfDyAq4QSB4"
      }
    },
    {
      "cell_type": "markdown",
      "source": [
        "##### **Q6. 2017년은 중국에서 people(인구수)보다 cell phone 개수가 더 많아지는 첫 번째 해입니다. 미국의 경우, cell phone의 개수가 people보다 더 많아지는 첫 번째 해는 언제인가요?**\n",
        "  - **Part1**의 `df4`로부터 답을 도출합니다. \n",
        "2014\n"
      ],
      "metadata": {
        "id": "wwy9vqffcbv8"
      }
    },
    {
      "cell_type": "code",
      "source": [
        "# 이곳에 코드를 작성하세요.\n",
        "df4.query(\"geo == 'usa' and (population < cell_phones_total)\")"
      ],
      "metadata": {
        "id": "fAP57XfslZfX",
        "colab": {
          "base_uri": "https://localhost:8080/",
          "height": 206
        },
        "outputId": "0c78567b-e699-406a-9213-bb6168a250c9"
      },
      "execution_count": null,
      "outputs": [
        {
          "output_type": "execute_result",
          "data": {
            "text/plain": [
              "      geo  time  cell_phones_total  population        country       PPP\n",
              "9033  usa  2014        355500000.0   318673411  United States  1.115562\n",
              "9034  usa  2015        382307000.0   320878310  United States  1.191439\n",
              "9035  usa  2016        396000000.0   323015995  United States  1.225945\n",
              "9036  usa  2017        400000000.0   325084756  United States  1.230448\n",
              "9037  usa  2018        422000000.0   327096265  United States  1.290140"
            ],
            "text/html": [
              "\n",
              "  <div id=\"df-b8776d3c-de36-42c8-b8d2-e26856ad6656\">\n",
              "    <div class=\"colab-df-container\">\n",
              "      <div>\n",
              "<style scoped>\n",
              "    .dataframe tbody tr th:only-of-type {\n",
              "        vertical-align: middle;\n",
              "    }\n",
              "\n",
              "    .dataframe tbody tr th {\n",
              "        vertical-align: top;\n",
              "    }\n",
              "\n",
              "    .dataframe thead th {\n",
              "        text-align: right;\n",
              "    }\n",
              "</style>\n",
              "<table border=\"1\" class=\"dataframe\">\n",
              "  <thead>\n",
              "    <tr style=\"text-align: right;\">\n",
              "      <th></th>\n",
              "      <th>geo</th>\n",
              "      <th>time</th>\n",
              "      <th>cell_phones_total</th>\n",
              "      <th>population</th>\n",
              "      <th>country</th>\n",
              "      <th>PPP</th>\n",
              "    </tr>\n",
              "  </thead>\n",
              "  <tbody>\n",
              "    <tr>\n",
              "      <th>9033</th>\n",
              "      <td>usa</td>\n",
              "      <td>2014</td>\n",
              "      <td>355500000.0</td>\n",
              "      <td>318673411</td>\n",
              "      <td>United States</td>\n",
              "      <td>1.115562</td>\n",
              "    </tr>\n",
              "    <tr>\n",
              "      <th>9034</th>\n",
              "      <td>usa</td>\n",
              "      <td>2015</td>\n",
              "      <td>382307000.0</td>\n",
              "      <td>320878310</td>\n",
              "      <td>United States</td>\n",
              "      <td>1.191439</td>\n",
              "    </tr>\n",
              "    <tr>\n",
              "      <th>9035</th>\n",
              "      <td>usa</td>\n",
              "      <td>2016</td>\n",
              "      <td>396000000.0</td>\n",
              "      <td>323015995</td>\n",
              "      <td>United States</td>\n",
              "      <td>1.225945</td>\n",
              "    </tr>\n",
              "    <tr>\n",
              "      <th>9036</th>\n",
              "      <td>usa</td>\n",
              "      <td>2017</td>\n",
              "      <td>400000000.0</td>\n",
              "      <td>325084756</td>\n",
              "      <td>United States</td>\n",
              "      <td>1.230448</td>\n",
              "    </tr>\n",
              "    <tr>\n",
              "      <th>9037</th>\n",
              "      <td>usa</td>\n",
              "      <td>2018</td>\n",
              "      <td>422000000.0</td>\n",
              "      <td>327096265</td>\n",
              "      <td>United States</td>\n",
              "      <td>1.290140</td>\n",
              "    </tr>\n",
              "  </tbody>\n",
              "</table>\n",
              "</div>\n",
              "      <button class=\"colab-df-convert\" onclick=\"convertToInteractive('df-b8776d3c-de36-42c8-b8d2-e26856ad6656')\"\n",
              "              title=\"Convert this dataframe to an interactive table.\"\n",
              "              style=\"display:none;\">\n",
              "        \n",
              "  <svg xmlns=\"http://www.w3.org/2000/svg\" height=\"24px\"viewBox=\"0 0 24 24\"\n",
              "       width=\"24px\">\n",
              "    <path d=\"M0 0h24v24H0V0z\" fill=\"none\"/>\n",
              "    <path d=\"M18.56 5.44l.94 2.06.94-2.06 2.06-.94-2.06-.94-.94-2.06-.94 2.06-2.06.94zm-11 1L8.5 8.5l.94-2.06 2.06-.94-2.06-.94L8.5 2.5l-.94 2.06-2.06.94zm10 10l.94 2.06.94-2.06 2.06-.94-2.06-.94-.94-2.06-.94 2.06-2.06.94z\"/><path d=\"M17.41 7.96l-1.37-1.37c-.4-.4-.92-.59-1.43-.59-.52 0-1.04.2-1.43.59L10.3 9.45l-7.72 7.72c-.78.78-.78 2.05 0 2.83L4 21.41c.39.39.9.59 1.41.59.51 0 1.02-.2 1.41-.59l7.78-7.78 2.81-2.81c.8-.78.8-2.07 0-2.86zM5.41 20L4 18.59l7.72-7.72 1.47 1.35L5.41 20z\"/>\n",
              "  </svg>\n",
              "      </button>\n",
              "      \n",
              "  <style>\n",
              "    .colab-df-container {\n",
              "      display:flex;\n",
              "      flex-wrap:wrap;\n",
              "      gap: 12px;\n",
              "    }\n",
              "\n",
              "    .colab-df-convert {\n",
              "      background-color: #E8F0FE;\n",
              "      border: none;\n",
              "      border-radius: 50%;\n",
              "      cursor: pointer;\n",
              "      display: none;\n",
              "      fill: #1967D2;\n",
              "      height: 32px;\n",
              "      padding: 0 0 0 0;\n",
              "      width: 32px;\n",
              "    }\n",
              "\n",
              "    .colab-df-convert:hover {\n",
              "      background-color: #E2EBFA;\n",
              "      box-shadow: 0px 1px 2px rgba(60, 64, 67, 0.3), 0px 1px 3px 1px rgba(60, 64, 67, 0.15);\n",
              "      fill: #174EA6;\n",
              "    }\n",
              "\n",
              "    [theme=dark] .colab-df-convert {\n",
              "      background-color: #3B4455;\n",
              "      fill: #D2E3FC;\n",
              "    }\n",
              "\n",
              "    [theme=dark] .colab-df-convert:hover {\n",
              "      background-color: #434B5C;\n",
              "      box-shadow: 0px 1px 3px 1px rgba(0, 0, 0, 0.15);\n",
              "      filter: drop-shadow(0px 1px 2px rgba(0, 0, 0, 0.3));\n",
              "      fill: #FFFFFF;\n",
              "    }\n",
              "  </style>\n",
              "\n",
              "      <script>\n",
              "        const buttonEl =\n",
              "          document.querySelector('#df-b8776d3c-de36-42c8-b8d2-e26856ad6656 button.colab-df-convert');\n",
              "        buttonEl.style.display =\n",
              "          google.colab.kernel.accessAllowed ? 'block' : 'none';\n",
              "\n",
              "        async function convertToInteractive(key) {\n",
              "          const element = document.querySelector('#df-b8776d3c-de36-42c8-b8d2-e26856ad6656');\n",
              "          const dataTable =\n",
              "            await google.colab.kernel.invokeFunction('convertToInteractive',\n",
              "                                                     [key], {});\n",
              "          if (!dataTable) return;\n",
              "\n",
              "          const docLinkHtml = 'Like what you see? Visit the ' +\n",
              "            '<a target=\"_blank\" href=https://colab.research.google.com/notebooks/data_table.ipynb>data table notebook</a>'\n",
              "            + ' to learn more about interactive tables.';\n",
              "          element.innerHTML = '';\n",
              "          dataTable['output_type'] = 'display_data';\n",
              "          await google.colab.output.renderOutput(dataTable, element);\n",
              "          const docLink = document.createElement('div');\n",
              "          docLink.innerHTML = docLinkHtml;\n",
              "          element.appendChild(docLink);\n",
              "        }\n",
              "      </script>\n",
              "    </div>\n",
              "  </div>\n",
              "  "
            ]
          },
          "metadata": {},
          "execution_count": 102
        }
      ]
    },
    {
      "cell_type": "markdown",
      "source": [
        "### **3-2. Advanced Visualization**\n",
        "\n",
        "**Part 2**에서 그린 그래프를 마케팅 부서에 전달하려고 합니다. 이때 다른 사람들이 그래프를 이해할 수 있도록 완성도를 높여야 합니다."
      ],
      "metadata": {
        "id": "v0e5TOstcmlD"
      }
    },
    {
      "cell_type": "markdown",
      "source": [
        "#### **다음 순서에 따라 시각화의 완성도를 높여 보세요.**\n",
        "\n",
        "- 그래프의 스타일을 지정해 봅니다. \n",
        "  - `plt.style.available`이 어떤 메소드인지 찾아보고, 이를 실행했을 때 반환되는 결과들에 대해서 알아보세요. \n",
        "    - [Style Plots using Matplotlib](https://www.geeksforgeeks.org/style-plots-using-matplotlib/#:~:text=Matplotlib%20is%20the%20most%20popular,without%20using%20any%20other%20GUIs) \n",
        "    - [Style sheets reference](https://matplotlib.org/stable/gallery/style_sheets/style_sheets_reference.html)\n",
        "  - 검색한 내용을 바탕으로 본인이 원하는 스타일로 지정해 봅니다. \n",
        "- **Part2** 에서 그린 그래프보다 크기가 커지도록 크기를 조정합니다. \n",
        "- **Part2** 에서 그린 그래프의 x축에는 짝수 월만 표시되어 있습니다. x축 단위를 지정하여 홀수 월도 모두 표시되도록 합니다. \n",
        "- x축과 y축에 각각 label(이름)을 붙여 봅니다. \n",
        "- title이 강조되도록 title의 크기를 키운 후 bold 처리해 줍니다. \n",
        "- 그래프가 나타내는 바를 이해할 수 있도록 다음 부제목을 추가하고, title보다 작은 크기로 설정합니다. \"Biden's share of media mentions on each medium relative to the next most-mentioned candidate each week\"\n",
        "  - 가독성을 위해 문장 중간에 `\\n`을 삽입해보세요.\n",
        "  - 부제목의 위치를 조정하여 title 바로 아래에 위치하도록 합니다. \n",
        "- 각 라인이 `Cable News`와 `Online News` 중 무엇을 나타내는지 명시해 줍니다."
      ],
      "metadata": {
        "id": "SooimHSnAA-k"
      }
    },
    {
      "cell_type": "code",
      "source": [
        "# 이곳에 코드를 작성하세요.\n",
        "plt.style.available"
      ],
      "metadata": {
        "id": "NS9a9yyHldiO"
      },
      "execution_count": null,
      "outputs": []
    },
    {
      "cell_type": "code",
      "source": [
        "plt.figure(figsize = (10,10))\n",
        "sns.set_style('darkgrid')\n",
        "sns.lineplot(x = month_mean.Month, y = month_mean.biden_cable_multiple, label = 'Cable', color = 'blue')\n",
        "sns.lineplot(x = month_mean.Month, y = month_mean.biden_online_multiple, label = 'Online', color = 'red')\n",
        "plt.xlabel('month', fontsize = 15)\n",
        "plt.ylabel('amount', fontsize = 15)\n",
        "plt.xticks(month_mean.Month)\n",
        "plt.suptitle(\"Biden's Ukraine-related media bump is fading\", fontsize = 20, fontweight = 'bold')\n",
        "plt.title( \"Biden's share of media mentions on each medium \\n relative to the next most-mentioned candidate each week\", fontsize = 15, y=1)\n",
        "plt.legend(fontsize = 15)"
      ],
      "metadata": {
        "colab": {
          "base_uri": "https://localhost:8080/",
          "height": 700
        },
        "id": "pJb76Dj8pKNg",
        "outputId": "a968c7ad-74cb-47ad-e11d-9fc806c0c2d7"
      },
      "execution_count": null,
      "outputs": [
        {
          "output_type": "execute_result",
          "data": {
            "text/plain": [
              "<matplotlib.legend.Legend at 0x7f23b2969390>"
            ]
          },
          "metadata": {},
          "execution_count": 122
        },
        {
          "output_type": "display_data",
          "data": {
            "text/plain": [
              "<Figure size 720x720 with 1 Axes>"
            ],
            "image/png": "[encoded data removed]"
          },
          "metadata": {}
        }
      ]
    },
    {
      "cell_type": "markdown",
      "source": [
        "##### **Q7. 완성한 시각화의 이미지 경로를 복사하여 쓰세요.**\n",
        "\n",
        "- 다음 이미지를 참고하여 이미지 경로를 복사하여 붙여넣어주세요.\n",
        "\n",
        "<img src='https://i.imgur.com/ILDViaO.png'>"
      ],
      "metadata": {
        "id": "GjTfdTxdb_MI"
      }
    }
  ]
}